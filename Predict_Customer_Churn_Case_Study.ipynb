{
  "nbformat": 4,
  "nbformat_minor": 0,
  "metadata": {
    "colab": {
      "name": "Predict Customer Churn Case Study.ipynb",
      "provenance": [],
      "include_colab_link": true
    },
    "kernelspec": {
      "display_name": "Python 3",
      "language": "python",
      "name": "python3"
    }
  },
  "cells": [
    {
      "cell_type": "markdown",
      "metadata": {
        "id": "view-in-github",
        "colab_type": "text"
      },
      "source": [
        "<a href=\"https://colab.research.google.com/github/ANILESLAVATH12/customer-churn/blob/main/Predict_Customer_Churn_Case_Study.ipynb\" target=\"_parent\"><img src=\"https://colab.research.google.com/assets/colab-badge.svg\" alt=\"Open In Colab\"/></a>"
      ]
    },
    {
      "metadata": {
        "id": "2lYY3102y0pC"
      },
      "cell_type": "markdown",
      "source": [
        "## 3: SetUp: Importing the Libraries"
      ]
    },
    {
      "metadata": {
        "id": "H61EBZgvy0pD"
      },
      "cell_type": "code",
      "source": [
        "import pandas as pd\n",
        "import numpy as np\n",
        "import matplotlib.pyplot as plt\n",
        "import seaborn as sns\n",
        "import missingno as ms\n",
        "from sklearn import model_selection, metrics  #to include metrics for evaluation # this used to be cross_validation\n",
        "from sklearn.preprocessing import StandardScaler\n",
        "from sklearn.model_selection import GridSearchCV\n",
        "from sklearn.model_selection import train_test_split\n",
        "import matplotlib.pylab as plt\n",
        "%matplotlib inline"
      ],
      "execution_count": 4,
      "outputs": []
    },
    {
      "metadata": {
        "id": "2_wZKe4DMfod"
      },
      "cell_type": "code",
      "source": [
        "# Quiet warnings since this is a demo (it quiets future and deprecation warnings).\n",
        "def warn(*args, **kwargs):\n",
        "    pass\n",
        "import warnings\n",
        "warnings.warn = warn"
      ],
      "execution_count": 5,
      "outputs": []
    },
    {
      "metadata": {
        "id": "sknHgWZQy0pI"
      },
      "cell_type": "markdown",
      "source": [
        "## 4: Access Data and Clean It Up"
      ]
    },
    {
      "metadata": {
        "id": "OwHp561YCO-2"
      },
      "cell_type": "markdown",
      "source": [
        "We're using the IBM Telco sample dataset for this case study. It provides some of the datapoints from our wish list but not all.\n",
        "\n",
        "I staged the IBM sample dataset on my own S3 bucket on AWS and I'm accessing it from there:"
      ]
    },
    {
      "metadata": {
        "id": "fzVASp4_jCrd",
        "outputId": "eff18c2e-211a-4ced-cb8d-9720de708472",
        "colab": {
          "base_uri": "https://localhost:8080/"
        }
      },
      "cell_type": "code",
      "source": [
        "!wget https://s3.amazonaws.com/ibm-sample-cust-churn-data/WA_Fn-UseC_-Telco-Customer-Churn.csv"
      ],
      "execution_count": 7,
      "outputs": [
        {
          "output_type": "stream",
          "name": "stdout",
          "text": [
            "--2025-03-12 03:43:34--  https://s3.amazonaws.com/ibm-sample-cust-churn-data/WA_Fn-UseC_-Telco-Customer-Churn.csv\n",
            "Resolving s3.amazonaws.com (s3.amazonaws.com)... 54.231.224.216, 52.216.222.32, 54.231.140.88, ...\n",
            "Connecting to s3.amazonaws.com (s3.amazonaws.com)|54.231.224.216|:443... connected.\n",
            "HTTP request sent, awaiting response... 404 Not Found\n",
            "2025-03-12 03:43:35 ERROR 404: Not Found.\n",
            "\n"
          ]
        }
      ]
    },
    {
      "metadata": {
        "id": "dmOFyHcF00bR",
        "outputId": "26ef1f4c-e205-435e-ccc6-aa58bd7e2e90",
        "colab": {
          "base_uri": "https://localhost:8080/"
        }
      },
      "cell_type": "code",
      "source": [
        "ls -l"
      ],
      "execution_count": 8,
      "outputs": [
        {
          "output_type": "stream",
          "name": "stdout",
          "text": [
            "total 4\n",
            "drwxr-xr-x 1 root root 4096 Mar 10 13:30 \u001b[0m\u001b[01;34msample_data\u001b[0m/\n"
          ]
        }
      ]
    },
    {
      "metadata": {
        "id": "gfmhfLvmy0pJ",
        "outputId": "8cf65835-4d10-4a46-ebfe-616ed358357d",
        "colab": {
          "base_uri": "https://localhost:8080/",
          "height": 321
        }
      },
      "cell_type": "code",
      "source": [
        "# Read the data and view the top portion to see what we are dealing with.\n",
        "data=pd.read_csv('WA_Fn-UseC_-Telco-Customer-Churn.csv')\n",
        "data.head()"
      ],
      "execution_count": 10,
      "outputs": [
        {
          "output_type": "error",
          "ename": "FileNotFoundError",
          "evalue": "[Errno 2] No such file or directory: 'WA_Fn-UseC_-Telco-Customer-Churn.csv'",
          "traceback": [
            "\u001b[0;31m---------------------------------------------------------------------------\u001b[0m",
            "\u001b[0;31mFileNotFoundError\u001b[0m                         Traceback (most recent call last)",
            "\u001b[0;32m<ipython-input-10-d2037b11bc06>\u001b[0m in \u001b[0;36m<cell line: 0>\u001b[0;34m()\u001b[0m\n\u001b[1;32m      1\u001b[0m \u001b[0;31m# Read the data and view the top portion to see what we are dealing with.\u001b[0m\u001b[0;34m\u001b[0m\u001b[0;34m\u001b[0m\u001b[0m\n\u001b[0;32m----> 2\u001b[0;31m \u001b[0mdata\u001b[0m\u001b[0;34m=\u001b[0m\u001b[0mpd\u001b[0m\u001b[0;34m.\u001b[0m\u001b[0mread_csv\u001b[0m\u001b[0;34m(\u001b[0m\u001b[0;34m'WA_Fn-UseC_-Telco-Customer-Churn.csv'\u001b[0m\u001b[0;34m)\u001b[0m\u001b[0;34m\u001b[0m\u001b[0;34m\u001b[0m\u001b[0m\n\u001b[0m\u001b[1;32m      3\u001b[0m \u001b[0mdata\u001b[0m\u001b[0;34m.\u001b[0m\u001b[0mhead\u001b[0m\u001b[0;34m(\u001b[0m\u001b[0;34m)\u001b[0m\u001b[0;34m\u001b[0m\u001b[0;34m\u001b[0m\u001b[0m\n",
            "\u001b[0;32m/usr/local/lib/python3.11/dist-packages/pandas/io/parsers/readers.py\u001b[0m in \u001b[0;36mread_csv\u001b[0;34m(filepath_or_buffer, sep, delimiter, header, names, index_col, usecols, dtype, engine, converters, true_values, false_values, skipinitialspace, skiprows, skipfooter, nrows, na_values, keep_default_na, na_filter, verbose, skip_blank_lines, parse_dates, infer_datetime_format, keep_date_col, date_parser, date_format, dayfirst, cache_dates, iterator, chunksize, compression, thousands, decimal, lineterminator, quotechar, quoting, doublequote, escapechar, comment, encoding, encoding_errors, dialect, on_bad_lines, delim_whitespace, low_memory, memory_map, float_precision, storage_options, dtype_backend)\u001b[0m\n\u001b[1;32m   1024\u001b[0m     \u001b[0mkwds\u001b[0m\u001b[0;34m.\u001b[0m\u001b[0mupdate\u001b[0m\u001b[0;34m(\u001b[0m\u001b[0mkwds_defaults\u001b[0m\u001b[0;34m)\u001b[0m\u001b[0;34m\u001b[0m\u001b[0;34m\u001b[0m\u001b[0m\n\u001b[1;32m   1025\u001b[0m \u001b[0;34m\u001b[0m\u001b[0m\n\u001b[0;32m-> 1026\u001b[0;31m     \u001b[0;32mreturn\u001b[0m \u001b[0m_read\u001b[0m\u001b[0;34m(\u001b[0m\u001b[0mfilepath_or_buffer\u001b[0m\u001b[0;34m,\u001b[0m \u001b[0mkwds\u001b[0m\u001b[0;34m)\u001b[0m\u001b[0;34m\u001b[0m\u001b[0;34m\u001b[0m\u001b[0m\n\u001b[0m\u001b[1;32m   1027\u001b[0m \u001b[0;34m\u001b[0m\u001b[0m\n\u001b[1;32m   1028\u001b[0m \u001b[0;34m\u001b[0m\u001b[0m\n",
            "\u001b[0;32m/usr/local/lib/python3.11/dist-packages/pandas/io/parsers/readers.py\u001b[0m in \u001b[0;36m_read\u001b[0;34m(filepath_or_buffer, kwds)\u001b[0m\n\u001b[1;32m    618\u001b[0m \u001b[0;34m\u001b[0m\u001b[0m\n\u001b[1;32m    619\u001b[0m     \u001b[0;31m# Create the parser.\u001b[0m\u001b[0;34m\u001b[0m\u001b[0;34m\u001b[0m\u001b[0m\n\u001b[0;32m--> 620\u001b[0;31m     \u001b[0mparser\u001b[0m \u001b[0;34m=\u001b[0m \u001b[0mTextFileReader\u001b[0m\u001b[0;34m(\u001b[0m\u001b[0mfilepath_or_buffer\u001b[0m\u001b[0;34m,\u001b[0m \u001b[0;34m**\u001b[0m\u001b[0mkwds\u001b[0m\u001b[0;34m)\u001b[0m\u001b[0;34m\u001b[0m\u001b[0;34m\u001b[0m\u001b[0m\n\u001b[0m\u001b[1;32m    621\u001b[0m \u001b[0;34m\u001b[0m\u001b[0m\n\u001b[1;32m    622\u001b[0m     \u001b[0;32mif\u001b[0m \u001b[0mchunksize\u001b[0m \u001b[0;32mor\u001b[0m \u001b[0miterator\u001b[0m\u001b[0;34m:\u001b[0m\u001b[0;34m\u001b[0m\u001b[0;34m\u001b[0m\u001b[0m\n",
            "\u001b[0;32m/usr/local/lib/python3.11/dist-packages/pandas/io/parsers/readers.py\u001b[0m in \u001b[0;36m__init__\u001b[0;34m(self, f, engine, **kwds)\u001b[0m\n\u001b[1;32m   1618\u001b[0m \u001b[0;34m\u001b[0m\u001b[0m\n\u001b[1;32m   1619\u001b[0m         \u001b[0mself\u001b[0m\u001b[0;34m.\u001b[0m\u001b[0mhandles\u001b[0m\u001b[0;34m:\u001b[0m \u001b[0mIOHandles\u001b[0m \u001b[0;34m|\u001b[0m \u001b[0;32mNone\u001b[0m \u001b[0;34m=\u001b[0m \u001b[0;32mNone\u001b[0m\u001b[0;34m\u001b[0m\u001b[0;34m\u001b[0m\u001b[0m\n\u001b[0;32m-> 1620\u001b[0;31m         \u001b[0mself\u001b[0m\u001b[0;34m.\u001b[0m\u001b[0m_engine\u001b[0m \u001b[0;34m=\u001b[0m \u001b[0mself\u001b[0m\u001b[0;34m.\u001b[0m\u001b[0m_make_engine\u001b[0m\u001b[0;34m(\u001b[0m\u001b[0mf\u001b[0m\u001b[0;34m,\u001b[0m \u001b[0mself\u001b[0m\u001b[0;34m.\u001b[0m\u001b[0mengine\u001b[0m\u001b[0;34m)\u001b[0m\u001b[0;34m\u001b[0m\u001b[0;34m\u001b[0m\u001b[0m\n\u001b[0m\u001b[1;32m   1621\u001b[0m \u001b[0;34m\u001b[0m\u001b[0m\n\u001b[1;32m   1622\u001b[0m     \u001b[0;32mdef\u001b[0m \u001b[0mclose\u001b[0m\u001b[0;34m(\u001b[0m\u001b[0mself\u001b[0m\u001b[0;34m)\u001b[0m \u001b[0;34m->\u001b[0m \u001b[0;32mNone\u001b[0m\u001b[0;34m:\u001b[0m\u001b[0;34m\u001b[0m\u001b[0;34m\u001b[0m\u001b[0m\n",
            "\u001b[0;32m/usr/local/lib/python3.11/dist-packages/pandas/io/parsers/readers.py\u001b[0m in \u001b[0;36m_make_engine\u001b[0;34m(self, f, engine)\u001b[0m\n\u001b[1;32m   1878\u001b[0m                 \u001b[0;32mif\u001b[0m \u001b[0;34m\"b\"\u001b[0m \u001b[0;32mnot\u001b[0m \u001b[0;32min\u001b[0m \u001b[0mmode\u001b[0m\u001b[0;34m:\u001b[0m\u001b[0;34m\u001b[0m\u001b[0;34m\u001b[0m\u001b[0m\n\u001b[1;32m   1879\u001b[0m                     \u001b[0mmode\u001b[0m \u001b[0;34m+=\u001b[0m \u001b[0;34m\"b\"\u001b[0m\u001b[0;34m\u001b[0m\u001b[0;34m\u001b[0m\u001b[0m\n\u001b[0;32m-> 1880\u001b[0;31m             self.handles = get_handle(\n\u001b[0m\u001b[1;32m   1881\u001b[0m                 \u001b[0mf\u001b[0m\u001b[0;34m,\u001b[0m\u001b[0;34m\u001b[0m\u001b[0;34m\u001b[0m\u001b[0m\n\u001b[1;32m   1882\u001b[0m                 \u001b[0mmode\u001b[0m\u001b[0;34m,\u001b[0m\u001b[0;34m\u001b[0m\u001b[0;34m\u001b[0m\u001b[0m\n",
            "\u001b[0;32m/usr/local/lib/python3.11/dist-packages/pandas/io/common.py\u001b[0m in \u001b[0;36mget_handle\u001b[0;34m(path_or_buf, mode, encoding, compression, memory_map, is_text, errors, storage_options)\u001b[0m\n\u001b[1;32m    871\u001b[0m         \u001b[0;32mif\u001b[0m \u001b[0mioargs\u001b[0m\u001b[0;34m.\u001b[0m\u001b[0mencoding\u001b[0m \u001b[0;32mand\u001b[0m \u001b[0;34m\"b\"\u001b[0m \u001b[0;32mnot\u001b[0m \u001b[0;32min\u001b[0m \u001b[0mioargs\u001b[0m\u001b[0;34m.\u001b[0m\u001b[0mmode\u001b[0m\u001b[0;34m:\u001b[0m\u001b[0;34m\u001b[0m\u001b[0;34m\u001b[0m\u001b[0m\n\u001b[1;32m    872\u001b[0m             \u001b[0;31m# Encoding\u001b[0m\u001b[0;34m\u001b[0m\u001b[0;34m\u001b[0m\u001b[0m\n\u001b[0;32m--> 873\u001b[0;31m             handle = open(\n\u001b[0m\u001b[1;32m    874\u001b[0m                 \u001b[0mhandle\u001b[0m\u001b[0;34m,\u001b[0m\u001b[0;34m\u001b[0m\u001b[0;34m\u001b[0m\u001b[0m\n\u001b[1;32m    875\u001b[0m                 \u001b[0mioargs\u001b[0m\u001b[0;34m.\u001b[0m\u001b[0mmode\u001b[0m\u001b[0;34m,\u001b[0m\u001b[0;34m\u001b[0m\u001b[0;34m\u001b[0m\u001b[0m\n",
            "\u001b[0;31mFileNotFoundError\u001b[0m: [Errno 2] No such file or directory: 'WA_Fn-UseC_-Telco-Customer-Churn.csv'"
          ]
        }
      ]
    },
    {
      "metadata": {
        "id": "yQJYcrjpy0pN",
        "outputId": "3128cabc-3b12-467b-95c5-04084af43954",
        "colab": {
          "base_uri": "https://localhost:8080/",
          "height": 159
        }
      },
      "cell_type": "code",
      "source": [
        "# See if the data is usable.\n",
        "data.info()"
      ],
      "execution_count": 11,
      "outputs": [
        {
          "output_type": "error",
          "ename": "NameError",
          "evalue": "name 'data' is not defined",
          "traceback": [
            "\u001b[0;31m---------------------------------------------------------------------------\u001b[0m",
            "\u001b[0;31mNameError\u001b[0m                                 Traceback (most recent call last)",
            "\u001b[0;32m<ipython-input-11-6ec2a940f300>\u001b[0m in \u001b[0;36m<cell line: 0>\u001b[0;34m()\u001b[0m\n\u001b[1;32m      1\u001b[0m \u001b[0;31m# See if the data is usable.\u001b[0m\u001b[0;34m\u001b[0m\u001b[0;34m\u001b[0m\u001b[0m\n\u001b[0;32m----> 2\u001b[0;31m \u001b[0mdata\u001b[0m\u001b[0;34m.\u001b[0m\u001b[0minfo\u001b[0m\u001b[0;34m(\u001b[0m\u001b[0;34m)\u001b[0m\u001b[0;34m\u001b[0m\u001b[0;34m\u001b[0m\u001b[0m\n\u001b[0m",
            "\u001b[0;31mNameError\u001b[0m: name 'data' is not defined"
          ]
        }
      ]
    },
    {
      "metadata": {
        "id": "bvtnGr4PlRew",
        "outputId": "a86aa4b4-4d9f-44fd-8741-1ec81da6ce63",
        "colab": {
          "base_uri": "https://localhost:8080/",
          "height": 176
        }
      },
      "cell_type": "code",
      "source": [
        "# Analyze if there is non-numeric data in the 'TotalCharges' column since it's showing as an object instead of float64.\n",
        "data['TotalCharges'] = pd.to_numeric(data['TotalCharges'], errors = 'coerce')\n",
        "data.loc[data['TotalCharges'].isna()==True]"
      ],
      "execution_count": 12,
      "outputs": [
        {
          "output_type": "error",
          "ename": "NameError",
          "evalue": "name 'data' is not defined",
          "traceback": [
            "\u001b[0;31m---------------------------------------------------------------------------\u001b[0m",
            "\u001b[0;31mNameError\u001b[0m                                 Traceback (most recent call last)",
            "\u001b[0;32m<ipython-input-12-0681c9453aeb>\u001b[0m in \u001b[0;36m<cell line: 0>\u001b[0;34m()\u001b[0m\n\u001b[1;32m      1\u001b[0m \u001b[0;31m# Analyze if there is non-numeric data in the 'TotalCharges' column since it's showing as an object instead of float64.\u001b[0m\u001b[0;34m\u001b[0m\u001b[0;34m\u001b[0m\u001b[0m\n\u001b[0;32m----> 2\u001b[0;31m \u001b[0mdata\u001b[0m\u001b[0;34m[\u001b[0m\u001b[0;34m'TotalCharges'\u001b[0m\u001b[0;34m]\u001b[0m \u001b[0;34m=\u001b[0m \u001b[0mpd\u001b[0m\u001b[0;34m.\u001b[0m\u001b[0mto_numeric\u001b[0m\u001b[0;34m(\u001b[0m\u001b[0mdata\u001b[0m\u001b[0;34m[\u001b[0m\u001b[0;34m'TotalCharges'\u001b[0m\u001b[0;34m]\u001b[0m\u001b[0;34m,\u001b[0m \u001b[0merrors\u001b[0m \u001b[0;34m=\u001b[0m \u001b[0;34m'coerce'\u001b[0m\u001b[0;34m)\u001b[0m\u001b[0;34m\u001b[0m\u001b[0;34m\u001b[0m\u001b[0m\n\u001b[0m\u001b[1;32m      3\u001b[0m \u001b[0mdata\u001b[0m\u001b[0;34m.\u001b[0m\u001b[0mloc\u001b[0m\u001b[0;34m[\u001b[0m\u001b[0mdata\u001b[0m\u001b[0;34m[\u001b[0m\u001b[0;34m'TotalCharges'\u001b[0m\u001b[0;34m]\u001b[0m\u001b[0;34m.\u001b[0m\u001b[0misna\u001b[0m\u001b[0;34m(\u001b[0m\u001b[0;34m)\u001b[0m\u001b[0;34m==\u001b[0m\u001b[0;32mTrue\u001b[0m\u001b[0;34m]\u001b[0m\u001b[0;34m\u001b[0m\u001b[0;34m\u001b[0m\u001b[0m\n",
            "\u001b[0;31mNameError\u001b[0m: name 'data' is not defined"
          ]
        }
      ]
    },
    {
      "metadata": {
        "id": "dq4060fjmT-C"
      },
      "cell_type": "code",
      "source": [
        "# Above we see that the blank \"TotalCharges\" happen when customers have 0 months tenure so we will change those values to $0.\n",
        "data[data['TotalCharges'].isna()==True] = 0\n",
        "data['OnlineBackup'].unique()"
      ],
      "execution_count": null,
      "outputs": []
    },
    {
      "metadata": {
        "id": "A2E-8kDo0UxF"
      },
      "cell_type": "code",
      "source": [
        "# See how many rows and columns.\n",
        "data.shape"
      ],
      "execution_count": null,
      "outputs": []
    },
    {
      "metadata": {
        "id": "CxUAu1yBm02V"
      },
      "cell_type": "markdown",
      "source": [
        "More data cleanup: next we’ll convert the categorical values into numeric values."
      ]
    },
    {
      "metadata": {
        "id": "R6etPuXjm_BL"
      },
      "cell_type": "code",
      "source": [
        "data['gender'].replace(['Male','Female'],[0,1],inplace=True)\n",
        "data['Partner'].replace(['Yes','No'],[1,0],inplace=True)\n",
        "data['Dependents'].replace(['Yes','No'],[1,0],inplace=True)\n",
        "data['PhoneService'].replace(['Yes','No'],[1,0],inplace=True)\n",
        "data['MultipleLines'].replace(['No phone service','No', 'Yes'],[0,0,1],inplace=True)\n",
        "data['InternetService'].replace(['No','DSL','Fiber optic'],[0,1,2],inplace=True)\n",
        "data['OnlineSecurity'].replace(['No','Yes','No internet service'],[0,1,0],inplace=True)\n",
        "data['OnlineBackup'].replace(['No','Yes','No internet service'],[0,1,0],inplace=True)\n",
        "data['DeviceProtection'].replace(['No','Yes','No internet service'],[0,1,0],inplace=True)\n",
        "data['TechSupport'].replace(['No','Yes','No internet service'],[0,1,0],inplace=True)\n",
        "data['StreamingTV'].replace(['No','Yes','No internet service'],[0,1,0],inplace=True)\n",
        "data['StreamingMovies'].replace(['No','Yes','No internet service'],[0,1,0],inplace=True)\n",
        "data['Contract'].replace(['Month-to-month', 'One year', 'Two year'],[0,1,2],inplace=True)\n",
        "data['PaperlessBilling'].replace(['Yes','No'],[1,0],inplace=True)\n",
        "data['PaymentMethod'].replace(['Electronic check', 'Mailed check', 'Bank transfer (automatic)','Credit card (automatic)'],[0,1,2,3],inplace=True)\n",
        "data['Churn'].replace(['Yes','No'],[1,0],inplace=True)\n",
        "\n",
        "data.info()"
      ],
      "execution_count": null,
      "outputs": []
    },
    {
      "metadata": {
        "id": "LKxD7MsXnYjV"
      },
      "cell_type": "markdown",
      "source": [
        "Let's look at relationships between customer data and churn using correlation."
      ]
    },
    {
      "metadata": {
        "id": "uZh4954qnm0y"
      },
      "cell_type": "code",
      "source": [
        "corr = data.corr()\n",
        "sns.heatmap(corr, xticklabels=corr.columns.values, yticklabels=corr.columns.values, annot = True, annot_kws={'size':12})\n",
        "heat_map=plt.gcf()\n",
        "heat_map.set_size_inches(20,15)\n",
        "plt.xticks(fontsize=10)\n",
        "plt.yticks(fontsize=10)\n",
        "plt.show()"
      ],
      "execution_count": null,
      "outputs": []
    },
    {
      "metadata": {
        "id": "Xu1DiQrfocI2"
      },
      "cell_type": "markdown",
      "source": [
        "Our goal is to avoid multicollinearity by dropping features that are closely correlated with each other. For example here it is TotalCharges and MonthlyCharges. So we will drop TotalCharges."
      ]
    },
    {
      "metadata": {
        "id": "vRIcVa-8ouOZ"
      },
      "cell_type": "code",
      "source": [
        "\tdata.pop('TotalCharges')"
      ],
      "execution_count": null,
      "outputs": []
    },
    {
      "metadata": {
        "id": "PV1tSYT6o7DS"
      },
      "cell_type": "code",
      "source": [
        "# Run info again to make sure TotalCharges has been dropped (popped off).\n",
        "data.info()"
      ],
      "execution_count": null,
      "outputs": []
    },
    {
      "metadata": {
        "id": "YiHnJp34Cvza"
      },
      "cell_type": "markdown",
      "source": [
        "Rerun corr chart after cleanup. TotalCharges should not appear in the corr chart."
      ]
    },
    {
      "metadata": {
        "id": "Ox5889JMCuiD"
      },
      "cell_type": "code",
      "source": [
        "corr = data.corr()\n",
        "sns.heatmap(corr, xticklabels=corr.columns.values, yticklabels=corr.columns.values, annot = True, annot_kws={'size':12})\n",
        "heat_map=plt.gcf()\n",
        "heat_map.set_size_inches(20,15)\n",
        "plt.xticks(fontsize=10)\n",
        "plt.yticks(fontsize=10)\n",
        "plt.show()"
      ],
      "execution_count": null,
      "outputs": []
    },
    {
      "metadata": {
        "id": "x2_BIVBZAOMs"
      },
      "cell_type": "markdown",
      "source": [
        "## 5: Explore The Data"
      ]
    },
    {
      "metadata": {
        "id": "JAyZt0XcANqa",
        "outputId": "bc61af8a-c64f-4699-a1f0-a7ced16eaed2",
        "colab": {
          "base_uri": "https://localhost:8080/",
          "height": 35
        }
      },
      "cell_type": "code",
      "source": [
        "# Explore how many churn data points we have.\n",
        "print(len(data['Churn']))"
      ],
      "execution_count": null,
      "outputs": [
        {
          "output_type": "stream",
          "text": [
            "7043\n"
          ],
          "name": "stdout"
        }
      ]
    },
    {
      "metadata": {
        "id": "S0WP1moGfjhg",
        "outputId": "20442d18-41c7-42bf-c3ab-697b0b756422",
        "colab": {
          "base_uri": "https://localhost:8080/",
          "height": 69
        }
      },
      "cell_type": "code",
      "source": [
        "# Explore how many customers in this dataset have churned. Is this dataset 50% as the team suggests is the overall customer churn rate?\n",
        "data['Churn'].value_counts()\n",
        "# We see this dataset actually has less than the overall 50% churn rate of the entire company reported data (it's actually 26.54% that have churned."
      ],
      "execution_count": null,
      "outputs": [
        {
          "output_type": "execute_result",
          "data": {
            "text/plain": [
              "0    5174\n",
              "1    1869\n",
              "Name: Churn, dtype: int64"
            ]
          },
          "metadata": {
            "tags": []
          },
          "execution_count": 16
        }
      ]
    },
    {
      "metadata": {
        "id": "_X08xUR8FRGH",
        "outputId": "a76bbe37-dfbf-460f-a555-e9f5caf7f87b",
        "colab": {
          "base_uri": "https://localhost:8080/",
          "height": 276
        }
      },
      "cell_type": "code",
      "source": [
        "# This creates a bar graph of churn (Yes vs. No) so we can check how the data is balanced.\n",
        "data['Churn'].value_counts().plot(kind = 'bar', title = 'Bar Graph of Non-Churners vs Churners by Count (Churn is a 1)', color = 'blue', align = 'center')\n",
        "plt.show()\n",
        "# The dataset does not have a huge imbalance which is good news! But also we clearly see it does not have the 50% as we would have thought."
      ],
      "execution_count": null,
      "outputs": [
        {
          "output_type": "display_data",
          "data": {
            "image/png": "[encoded data removed]",
            "text/plain": [
              "<Figure size 432x288 with 1 Axes>"
            ]
          },
          "metadata": {
            "tags": []
          }
        }
      ]
    },
    {
      "metadata": {
        "id": "_KTJ2EeUHVGM"
      },
      "cell_type": "markdown",
      "source": [
        "Explore some contingencies on how some features relate to churn."
      ]
    },
    {
      "metadata": {
        "id": "QO8tgNqvHUve",
        "outputId": "78e3f66a-ceb3-486a-dbb2-6556ab89ef20",
        "colab": {
          "base_uri": "https://localhost:8080/",
          "height": 138
        }
      },
      "cell_type": "code",
      "source": [
        "# Creates initial contingency table between Churn and gender. Male is 0, Female is 1.\n",
        "gender_churn_contingency = pd.crosstab(data[\"gender\"], data[\"Churn\"])\n",
        "display(gender_churn_contingency)\n",
        "# Male and females churn at about the same rate, so not much to see here. Let's keep moving."
      ],
      "execution_count": null,
      "outputs": [
        {
          "output_type": "display_data",
          "data": {
            "text/html": [
              "<div>\n",
              "<style scoped>\n",
              "    .dataframe tbody tr th:only-of-type {\n",
              "        vertical-align: middle;\n",
              "    }\n",
              "\n",
              "    .dataframe tbody tr th {\n",
              "        vertical-align: top;\n",
              "    }\n",
              "\n",
              "    .dataframe thead th {\n",
              "        text-align: right;\n",
              "    }\n",
              "</style>\n",
              "<table border=\"1\" class=\"dataframe\">\n",
              "  <thead>\n",
              "    <tr style=\"text-align: right;\">\n",
              "      <th>Churn</th>\n",
              "      <th>0</th>\n",
              "      <th>1</th>\n",
              "    </tr>\n",
              "    <tr>\n",
              "      <th>gender</th>\n",
              "      <th></th>\n",
              "      <th></th>\n",
              "    </tr>\n",
              "  </thead>\n",
              "  <tbody>\n",
              "    <tr>\n",
              "      <th>0</th>\n",
              "      <td>2630</td>\n",
              "      <td>930</td>\n",
              "    </tr>\n",
              "    <tr>\n",
              "      <th>1</th>\n",
              "      <td>2544</td>\n",
              "      <td>939</td>\n",
              "    </tr>\n",
              "  </tbody>\n",
              "</table>\n",
              "</div>"
            ],
            "text/plain": [
              "Churn      0    1\n",
              "gender           \n",
              "0       2630  930\n",
              "1       2544  939"
            ]
          },
          "metadata": {
            "tags": []
          }
        }
      ]
    },
    {
      "metadata": {
        "id": "TeatExD7H7fP",
        "outputId": "3dbe58d9-ef7b-4ce9-d3c0-c84d3c5c729c",
        "colab": {
          "base_uri": "https://localhost:8080/",
          "height": 708
        }
      },
      "cell_type": "code",
      "source": [
        "# Check the data health. The sections should all be completely black indicating the data is complete.\n",
        "ms.matrix(data)\n",
        "# It looks good."
      ],
      "execution_count": null,
      "outputs": [
        {
          "output_type": "execute_result",
          "data": {
            "text/plain": [
              "<matplotlib.axes._subplots.AxesSubplot at 0x7f4f435b0588>"
            ]
          },
          "metadata": {
            "tags": []
          },
          "execution_count": 19
        },
        {
          "output_type": "display_data",
          "data": {
            "image/png": "[encoded data removed]",
            "text/plain": [
              "<Figure size 1800x720 with 2 Axes>"
            ]
          },
          "metadata": {
            "tags": []
          }
        }
      ]
    },
    {
      "metadata": {
        "id": "3_B7gx95IQKf",
        "outputId": "44a1115e-fdf8-408c-f202-71e3c0bcc0a5",
        "colab": {
          "base_uri": "https://localhost:8080/",
          "height": 290
        }
      },
      "cell_type": "code",
      "source": [
        "# Explore the relationship between instances of Tech Support and Churn.\n",
        "# Stacked Bar of Tech Support and Churn.\n",
        "tech_support_churn = pd.crosstab(data['TechSupport'], data['Churn'])\n",
        "tech_support_churn.plot(kind = 'bar', stacked = True)\n",
        "plt.ylabel('Count')\n",
        "plt.xlabel('Tech Support Count')\n",
        "plt.title('Churn Rate Relative to Uses of Tech Support (Churned is a 1)')\n",
        "plt.show()\n",
        "# We can see that non-churners use tech support more often than customers that end up churning.\n",
        "# So let's explore some ways to get people to use Tech Support more often so they cancel (churn) less. You can see notes for this at the bottom.\n",
        "# Also, tech support in this data is just a Y/N. It would be useful in future to include how many tech support calls by customer so we could analyze how the number of tech support calls relates to churn."
      ],
      "execution_count": null,
      "outputs": [
        {
          "output_type": "display_data",
          "data": {
            "image/png": "[encoded data removed]",
            "text/plain": [
              "<Figure size 432x288 with 1 Axes>"
            ]
          },
          "metadata": {
            "tags": []
          }
        }
      ]
    },
    {
      "metadata": {
        "id": "A8xHAhIJecrR",
        "outputId": "698f8d9c-e664-4c2b-d651-c299a47fa6b6",
        "colab": {
          "base_uri": "https://localhost:8080/",
          "height": 296
        }
      },
      "cell_type": "code",
      "source": [
        "# Churn rate relative to tenure.\n",
        "# Stacked bar of tenure and churn.\n",
        "tenure_churn = pd.crosstab(data['tenure'], data['Churn'])\n",
        "tenure_churn.plot(kind = 'bar', stacked = True)\n",
        "plt.ylabel('Count')\n",
        "plt.xlabel('Tenure of Subscription')\n",
        "plt.title('Churn Rate Relative to Tenure of Subscription (Churned is a 1)')\n",
        "plt.show()\n",
        "# We can clearly see the longer a customer stays as a subscriber, the less they are likely to churn!"
      ],
      "execution_count": null,
      "outputs": [
        {
          "output_type": "display_data",
          "data": {
            "image/png": "[encoded data removed]",
            "text/plain": [
              "<Figure size 432x288 with 1 Axes>"
            ]
          },
          "metadata": {
            "tags": []
          }
        }
      ]
    },
    {
      "metadata": {
        "id": "onWnkXWVbFdA",
        "outputId": "929df6a5-c006-4245-de23-02a804344d89",
        "colab": {
          "base_uri": "https://localhost:8080/",
          "height": 308
        }
      },
      "cell_type": "code",
      "source": [
        "# Distribution of features.\n",
        "features = ['gender', 'SeniorCitizen','Partner', 'Dependents', 'tenure', 'PhoneService', 'MultipleLines', 'InternetService', 'OnlineSecurity', 'OnlineBackup', 'DeviceProtection', 'TechSupport', 'StreamingTV', 'StreamingMovies', 'Contract', 'PaperlessBilling', 'PaymentMethod', 'MonthlyCharges']\n",
        "data[features].describe()"
      ],
      "execution_count": null,
      "outputs": [
        {
          "output_type": "execute_result",
          "data": {
            "text/html": [
              "<div>\n",
              "<style scoped>\n",
              "    .dataframe tbody tr th:only-of-type {\n",
              "        vertical-align: middle;\n",
              "    }\n",
              "\n",
              "    .dataframe tbody tr th {\n",
              "        vertical-align: top;\n",
              "    }\n",
              "\n",
              "    .dataframe thead th {\n",
              "        text-align: right;\n",
              "    }\n",
              "</style>\n",
              "<table border=\"1\" class=\"dataframe\">\n",
              "  <thead>\n",
              "    <tr style=\"text-align: right;\">\n",
              "      <th></th>\n",
              "      <th>gender</th>\n",
              "      <th>SeniorCitizen</th>\n",
              "      <th>Partner</th>\n",
              "      <th>Dependents</th>\n",
              "      <th>tenure</th>\n",
              "      <th>PhoneService</th>\n",
              "      <th>MultipleLines</th>\n",
              "      <th>InternetService</th>\n",
              "      <th>OnlineSecurity</th>\n",
              "      <th>OnlineBackup</th>\n",
              "      <th>DeviceProtection</th>\n",
              "      <th>TechSupport</th>\n",
              "      <th>StreamingTV</th>\n",
              "      <th>StreamingMovies</th>\n",
              "      <th>Contract</th>\n",
              "      <th>PaperlessBilling</th>\n",
              "      <th>PaymentMethod</th>\n",
              "      <th>MonthlyCharges</th>\n",
              "    </tr>\n",
              "  </thead>\n",
              "  <tbody>\n",
              "    <tr>\n",
              "      <th>count</th>\n",
              "      <td>7043.000000</td>\n",
              "      <td>7043.000000</td>\n",
              "      <td>7043.000000</td>\n",
              "      <td>7043.000000</td>\n",
              "      <td>7043.000000</td>\n",
              "      <td>7043.000000</td>\n",
              "      <td>7043.000000</td>\n",
              "      <td>7043.000000</td>\n",
              "      <td>7043.000000</td>\n",
              "      <td>7043.000000</td>\n",
              "      <td>7043.000000</td>\n",
              "      <td>7043.000000</td>\n",
              "      <td>7043.000000</td>\n",
              "      <td>7043.000000</td>\n",
              "      <td>7043.000000</td>\n",
              "      <td>7043.000000</td>\n",
              "      <td>7043.000000</td>\n",
              "      <td>7043.000000</td>\n",
              "    </tr>\n",
              "    <tr>\n",
              "      <th>mean</th>\n",
              "      <td>0.494534</td>\n",
              "      <td>0.162147</td>\n",
              "      <td>0.481755</td>\n",
              "      <td>0.298026</td>\n",
              "      <td>32.371149</td>\n",
              "      <td>0.901888</td>\n",
              "      <td>0.421269</td>\n",
              "      <td>1.222206</td>\n",
              "      <td>0.286100</td>\n",
              "      <td>0.344314</td>\n",
              "      <td>0.343320</td>\n",
              "      <td>0.289649</td>\n",
              "      <td>0.383785</td>\n",
              "      <td>0.387761</td>\n",
              "      <td>0.687491</td>\n",
              "      <td>0.591793</td>\n",
              "      <td>1.313503</td>\n",
              "      <td>64.697004</td>\n",
              "    </tr>\n",
              "    <tr>\n",
              "      <th>std</th>\n",
              "      <td>0.500006</td>\n",
              "      <td>0.368612</td>\n",
              "      <td>0.499702</td>\n",
              "      <td>0.457424</td>\n",
              "      <td>24.559481</td>\n",
              "      <td>0.297487</td>\n",
              "      <td>0.493798</td>\n",
              "      <td>0.779535</td>\n",
              "      <td>0.451969</td>\n",
              "      <td>0.475178</td>\n",
              "      <td>0.474851</td>\n",
              "      <td>0.453632</td>\n",
              "      <td>0.486341</td>\n",
              "      <td>0.487274</td>\n",
              "      <td>0.832727</td>\n",
              "      <td>0.491537</td>\n",
              "      <td>1.149799</td>\n",
              "      <td>30.171186</td>\n",
              "    </tr>\n",
              "    <tr>\n",
              "      <th>min</th>\n",
              "      <td>0.000000</td>\n",
              "      <td>0.000000</td>\n",
              "      <td>0.000000</td>\n",
              "      <td>0.000000</td>\n",
              "      <td>0.000000</td>\n",
              "      <td>0.000000</td>\n",
              "      <td>0.000000</td>\n",
              "      <td>0.000000</td>\n",
              "      <td>0.000000</td>\n",
              "      <td>0.000000</td>\n",
              "      <td>0.000000</td>\n",
              "      <td>0.000000</td>\n",
              "      <td>0.000000</td>\n",
              "      <td>0.000000</td>\n",
              "      <td>0.000000</td>\n",
              "      <td>0.000000</td>\n",
              "      <td>0.000000</td>\n",
              "      <td>0.000000</td>\n",
              "    </tr>\n",
              "    <tr>\n",
              "      <th>25%</th>\n",
              "      <td>0.000000</td>\n",
              "      <td>0.000000</td>\n",
              "      <td>0.000000</td>\n",
              "      <td>0.000000</td>\n",
              "      <td>9.000000</td>\n",
              "      <td>1.000000</td>\n",
              "      <td>0.000000</td>\n",
              "      <td>1.000000</td>\n",
              "      <td>0.000000</td>\n",
              "      <td>0.000000</td>\n",
              "      <td>0.000000</td>\n",
              "      <td>0.000000</td>\n",
              "      <td>0.000000</td>\n",
              "      <td>0.000000</td>\n",
              "      <td>0.000000</td>\n",
              "      <td>0.000000</td>\n",
              "      <td>0.000000</td>\n",
              "      <td>35.450000</td>\n",
              "    </tr>\n",
              "    <tr>\n",
              "      <th>50%</th>\n",
              "      <td>0.000000</td>\n",
              "      <td>0.000000</td>\n",
              "      <td>0.000000</td>\n",
              "      <td>0.000000</td>\n",
              "      <td>29.000000</td>\n",
              "      <td>1.000000</td>\n",
              "      <td>0.000000</td>\n",
              "      <td>1.000000</td>\n",
              "      <td>0.000000</td>\n",
              "      <td>0.000000</td>\n",
              "      <td>0.000000</td>\n",
              "      <td>0.000000</td>\n",
              "      <td>0.000000</td>\n",
              "      <td>0.000000</td>\n",
              "      <td>0.000000</td>\n",
              "      <td>1.000000</td>\n",
              "      <td>1.000000</td>\n",
              "      <td>70.350000</td>\n",
              "    </tr>\n",
              "    <tr>\n",
              "      <th>75%</th>\n",
              "      <td>1.000000</td>\n",
              "      <td>0.000000</td>\n",
              "      <td>1.000000</td>\n",
              "      <td>1.000000</td>\n",
              "      <td>55.000000</td>\n",
              "      <td>1.000000</td>\n",
              "      <td>1.000000</td>\n",
              "      <td>2.000000</td>\n",
              "      <td>1.000000</td>\n",
              "      <td>1.000000</td>\n",
              "      <td>1.000000</td>\n",
              "      <td>1.000000</td>\n",
              "      <td>1.000000</td>\n",
              "      <td>1.000000</td>\n",
              "      <td>1.000000</td>\n",
              "      <td>1.000000</td>\n",
              "      <td>2.000000</td>\n",
              "      <td>89.850000</td>\n",
              "    </tr>\n",
              "    <tr>\n",
              "      <th>max</th>\n",
              "      <td>1.000000</td>\n",
              "      <td>1.000000</td>\n",
              "      <td>1.000000</td>\n",
              "      <td>1.000000</td>\n",
              "      <td>72.000000</td>\n",
              "      <td>1.000000</td>\n",
              "      <td>1.000000</td>\n",
              "      <td>2.000000</td>\n",
              "      <td>1.000000</td>\n",
              "      <td>1.000000</td>\n",
              "      <td>1.000000</td>\n",
              "      <td>1.000000</td>\n",
              "      <td>1.000000</td>\n",
              "      <td>1.000000</td>\n",
              "      <td>2.000000</td>\n",
              "      <td>1.000000</td>\n",
              "      <td>3.000000</td>\n",
              "      <td>118.750000</td>\n",
              "    </tr>\n",
              "  </tbody>\n",
              "</table>\n",
              "</div>"
            ],
            "text/plain": [
              "            gender  SeniorCitizen      Partner   Dependents       tenure  \\\n",
              "count  7043.000000    7043.000000  7043.000000  7043.000000  7043.000000   \n",
              "mean      0.494534       0.162147     0.481755     0.298026    32.371149   \n",
              "std       0.500006       0.368612     0.499702     0.457424    24.559481   \n",
              "min       0.000000       0.000000     0.000000     0.000000     0.000000   \n",
              "25%       0.000000       0.000000     0.000000     0.000000     9.000000   \n",
              "50%       0.000000       0.000000     0.000000     0.000000    29.000000   \n",
              "75%       1.000000       0.000000     1.000000     1.000000    55.000000   \n",
              "max       1.000000       1.000000     1.000000     1.000000    72.000000   \n",
              "\n",
              "       PhoneService  MultipleLines  InternetService  OnlineSecurity  \\\n",
              "count   7043.000000    7043.000000      7043.000000     7043.000000   \n",
              "mean       0.901888       0.421269         1.222206        0.286100   \n",
              "std        0.297487       0.493798         0.779535        0.451969   \n",
              "min        0.000000       0.000000         0.000000        0.000000   \n",
              "25%        1.000000       0.000000         1.000000        0.000000   \n",
              "50%        1.000000       0.000000         1.000000        0.000000   \n",
              "75%        1.000000       1.000000         2.000000        1.000000   \n",
              "max        1.000000       1.000000         2.000000        1.000000   \n",
              "\n",
              "       OnlineBackup  DeviceProtection  TechSupport  StreamingTV  \\\n",
              "count   7043.000000       7043.000000  7043.000000  7043.000000   \n",
              "mean       0.344314          0.343320     0.289649     0.383785   \n",
              "std        0.475178          0.474851     0.453632     0.486341   \n",
              "min        0.000000          0.000000     0.000000     0.000000   \n",
              "25%        0.000000          0.000000     0.000000     0.000000   \n",
              "50%        0.000000          0.000000     0.000000     0.000000   \n",
              "75%        1.000000          1.000000     1.000000     1.000000   \n",
              "max        1.000000          1.000000     1.000000     1.000000   \n",
              "\n",
              "       StreamingMovies     Contract  PaperlessBilling  PaymentMethod  \\\n",
              "count      7043.000000  7043.000000       7043.000000    7043.000000   \n",
              "mean          0.387761     0.687491          0.591793       1.313503   \n",
              "std           0.487274     0.832727          0.491537       1.149799   \n",
              "min           0.000000     0.000000          0.000000       0.000000   \n",
              "25%           0.000000     0.000000          0.000000       0.000000   \n",
              "50%           0.000000     0.000000          1.000000       1.000000   \n",
              "75%           1.000000     1.000000          1.000000       2.000000   \n",
              "max           1.000000     2.000000          1.000000       3.000000   \n",
              "\n",
              "       MonthlyCharges  \n",
              "count     7043.000000  \n",
              "mean        64.697004  \n",
              "std         30.171186  \n",
              "min          0.000000  \n",
              "25%         35.450000  \n",
              "50%         70.350000  \n",
              "75%         89.850000  \n",
              "max        118.750000  "
            ]
          },
          "metadata": {
            "tags": []
          },
          "execution_count": 22
        }
      ]
    },
    {
      "metadata": {
        "id": "IJ2CT6K0dNJq",
        "outputId": "f1b6dac2-5d71-4fb5-8589-d14aa66d0415",
        "colab": {
          "base_uri": "https://localhost:8080/",
          "height": 279
        }
      },
      "cell_type": "code",
      "source": [
        "# Plot the distribution of observations for tenure.\n",
        "sns.distplot(data['tenure']);\n",
        "# It shows the max tenure is 70. This must be when the data history ends. We'll account for this in our analysis."
      ],
      "execution_count": null,
      "outputs": [
        {
          "output_type": "display_data",
          "data": {
            "image/png": "[encoded data removed]",
            "text/plain": [
              "<Figure size 432x288 with 1 Axes>"
            ]
          },
          "metadata": {
            "tags": []
          }
        }
      ]
    },
    {
      "metadata": {
        "id": "_UTsEzPeiQUt",
        "outputId": "24977427-0405-44aa-a4b4-e7c1da00c2e4",
        "colab": {
          "base_uri": "https://localhost:8080/",
          "height": 279
        }
      },
      "cell_type": "code",
      "source": [
        "# Does how a customer pays have to do with their churn?\n",
        "_, axes = plt.subplots(1, 2, sharey=True, figsize=(10, 4))\n",
        "sns.countplot(x='PaperlessBilling', hue='Churn',\n",
        "              data=data, ax=axes[0]);\n",
        "sns.countplot(x='PaymentMethod', hue='Churn',\n",
        "              data=data, ax=axes[1]);\n",
        "# We can see that customers that use paperless billing are much more likely to churn (0 = don't have paperless billing). That seems backwards I would go check that data with the team.\n",
        "# We can see that customers that have the 0 payment method (electronic check) are much more likely to churn. Let's discourage that option."
      ],
      "execution_count": null,
      "outputs": [
        {
          "output_type": "display_data",
          "data": {
            "image/png": "[encoded data removed]",
            "text/plain": [
              "<Figure size 720x288 with 2 Axes>"
            ]
          },
          "metadata": {
            "tags": []
          }
        }
      ]
    },
    {
      "metadata": {
        "id": "Jd4Fpqwzlebv",
        "outputId": "25fb6f2d-7150-40be-ae97-5dc62ade90ad",
        "colab": {
          "base_uri": "https://localhost:8080/",
          "height": 279
        }
      },
      "cell_type": "code",
      "source": [
        "# See if the other products they have from this company has to do with their churn.\n",
        "_, axes = plt.subplots(1, 2, sharey=True, figsize=(10, 4))\n",
        "sns.countplot(x='PhoneService', hue='Churn',\n",
        "              data=data, ax=axes[0]);\n",
        "sns.countplot(x='InternetService', hue='Churn',\n",
        "              data=data, ax=axes[1]);\n",
        "# If they don't have Phone Service, they are more likely to churn.\n",
        "# If they don't have Internet Service, they are more likely to churn. Those customers with the highest Internet Service are least likely to churn.\n",
        "# Conclusion: This makes sense. Customers with other products from the company, and premium products, churn less.\n",
        "# Offer customers these additional products, perhaps even at a deep discount, so they take them and are less likely to churn."
      ],
      "execution_count": null,
      "outputs": [
        {
          "output_type": "display_data",
          "data": {
            "image/png": "[encoded data removed]",
            "text/plain": [
              "<Figure size 720x288 with 2 Axes>"
            ]
          },
          "metadata": {
            "tags": []
          }
        }
      ]
    },
    {
      "metadata": {
        "id": "Za0jp-Npy0ps"
      },
      "cell_type": "markdown",
      "source": [
        "## 6:  Prepare the Data"
      ]
    },
    {
      "metadata": {
        "id": "1INgdQZMy0pt"
      },
      "cell_type": "code",
      "source": [
        "# Splitting the data for testing and training."
      ],
      "execution_count": null,
      "outputs": []
    },
    {
      "metadata": {
        "id": "OduTMX_ay0py"
      },
      "cell_type": "code",
      "source": [
        "X_train, X_test, y_train, y_test = train_test_split(data.drop('Churn',axis=1),\n",
        "                                                    data['Churn'], test_size=0.30,\n",
        "                                                    random_state=101)"
      ],
      "execution_count": null,
      "outputs": []
    },
    {
      "metadata": {
        "id": "MhI4K6nby0p1"
      },
      "cell_type": "code",
      "source": [
        "train=pd.concat([X_train,y_train],axis=1)"
      ],
      "execution_count": null,
      "outputs": []
    },
    {
      "metadata": {
        "id": "Ejwbdo3ny0p8"
      },
      "cell_type": "code",
      "source": [
        "# Function to estimate the best value of n_estimators and fit the model with the given data."
      ],
      "execution_count": null,
      "outputs": []
    },
    {
      "metadata": {
        "id": "XDrWVKRSy0p_"
      },
      "cell_type": "code",
      "source": [
        "def modelfit(alg, dtrain, predictors,useTrainCV=True, cv_folds=5, early_stopping_rounds=50):\n",
        "\n",
        "    if useTrainCV:\n",
        "        #to get the parameters of xgboost\n",
        "        xgb_param = alg.get_xgb_params()\n",
        "\n",
        "        #to convert into a datastructure internally used by xgboost for training efficiency\n",
        "        # and speed\n",
        "        xgtrain = xgb.DMatrix(dtrain[predictors].values, label=dtrain[target].values)\n",
        "\n",
        "        #xgb.cv is used to find the number of estimators required for the parameters\n",
        "        # which are set\n",
        "        cvresult = xgb.cv(xgb_param, xgtrain,\n",
        "                          num_boost_round=alg.get_params()['n_estimators'], nfold=cv_folds,\n",
        "                        metrics='auc', early_stopping_rounds=early_stopping_rounds)\n",
        "\n",
        "        #setting the n_estimators parameter using set_params\n",
        "        alg.set_params(n_estimators=cvresult.shape[0])\n",
        "\n",
        "        print(alg.get_xgb_params())\n",
        "\n",
        "    #Fit the algorithm on the data\n",
        "    alg.fit(dtrain[predictors], dtrain['Churn'],eval_metric='auc')\n",
        "\n",
        "    return alg"
      ],
      "execution_count": null,
      "outputs": []
    },
    {
      "metadata": {
        "id": "AsILrXIay0qC"
      },
      "cell_type": "code",
      "source": [
        "# Function to get the accuracy of the model on the test data given the features considered."
      ],
      "execution_count": null,
      "outputs": []
    },
    {
      "metadata": {
        "id": "z9WG0lNYy0qF"
      },
      "cell_type": "code",
      "source": [
        "def get_accuracy(alg,predictors):\n",
        "    dtrain_predictions = alg.predict(X_test[predictors])\n",
        "    dtrain_predprob = alg.predict_proba(X_test[predictors])[:,1]\n",
        "    print (\"\\nModel Report\")\n",
        "    print (\"Accuracy : %.4g\" % metrics.accuracy_score(y_test.values,\n",
        "                                                      dtrain_predictions))\n",
        "    print (\"AUC Score (Train): %f\" % metrics.roc_auc_score(y_test.values,\n",
        "                                                           dtrain_predprob))"
      ],
      "execution_count": null,
      "outputs": []
    },
    {
      "metadata": {
        "id": "EBevLNUWy0qH"
      },
      "cell_type": "code",
      "source": [
        "# Function to get the feature importances based on the model fit."
      ],
      "execution_count": null,
      "outputs": []
    },
    {
      "metadata": {
        "id": "AzV_bz3Hy0qK"
      },
      "cell_type": "code",
      "source": [
        "def get_feature_importances(alg):\n",
        "    #to get the feature importances based on xgboost we use fscore\n",
        "    feat_imp = pd.Series(alg._Booster.get_fscore()).sort_values(ascending=False)\n",
        "    print(feat_imp)\n",
        "\n",
        "    #this shows the feature importances on a bar chart\n",
        "    feat_imp.plot(kind='bar', title='Feature Importances')\n",
        "    plt.ylabel('Feature Importance Score')"
      ],
      "execution_count": null,
      "outputs": []
    },
    {
      "metadata": {
        "id": "4-96Qa11y0qQ"
      },
      "cell_type": "code",
      "source": [
        "target = 'Churn'\n",
        "IDcol = 'customerID'"
      ],
      "execution_count": null,
      "outputs": []
    },
    {
      "metadata": {
        "id": "xn7ABOQky0qV"
      },
      "cell_type": "markdown",
      "source": [
        "## 7: Model Selection, Predictions, and Metrics"
      ]
    },
    {
      "metadata": {
        "id": "qtqV9eggy0qW"
      },
      "cell_type": "code",
      "source": [
        "# To return the XGBClassifier object based on the values of the features."
      ],
      "execution_count": null,
      "outputs": []
    },
    {
      "metadata": {
        "id": "9kBqFmhe0kWQ",
        "outputId": "58f586ad-a11a-4221-d49c-d5f166abf441",
        "colab": {
          "base_uri": "https://localhost:8080/",
          "height": 69
        }
      },
      "cell_type": "code",
      "source": [
        "!pip install xgboost\n",
        "# XGBoost converts weak learners to strong learners through an ensemble method.\n",
        "# Unlike bagging, in the classical boosting the subset creation is not random and depends upon the performance of the previous models."
      ],
      "execution_count": null,
      "outputs": [
        {
          "output_type": "stream",
          "text": [
            "Requirement already satisfied: xgboost in /usr/local/lib/python3.6/dist-packages (0.7.post4)\n",
            "Requirement already satisfied: numpy in /usr/local/lib/python3.6/dist-packages (from xgboost) (1.14.6)\n",
            "Requirement already satisfied: scipy in /usr/local/lib/python3.6/dist-packages (from xgboost) (1.1.0)\n"
          ],
          "name": "stdout"
        }
      ]
    },
    {
      "metadata": {
        "id": "swdjCkipy0qa"
      },
      "cell_type": "code",
      "source": [
        "def XgbClass(learning_rate =0.1,n_estimators=1000,max_depth=5,min_child_weight=1,\n",
        "             gamma=0,subsample=0.8,colsample_bytree=0.8):\n",
        "    xgb1 = XGBClassifier(learning_rate=learning_rate,\n",
        "                         n_estimators=n_estimators,\n",
        "                         max_depth=max_depth,\n",
        "                         min_child_weight=min_child_weight,\n",
        "                         gamma=gamma,\n",
        "                         subsample=subsample,\n",
        "                         colsample_bytree=colsample_bytree)\n",
        "    return xgb1"
      ],
      "execution_count": null,
      "outputs": []
    },
    {
      "metadata": {
        "id": "m837XZX5y0qd"
      },
      "cell_type": "code",
      "source": [
        "# Function to return the list of predictors."
      ],
      "execution_count": null,
      "outputs": []
    },
    {
      "metadata": {
        "id": "9dQWyI57y0qf"
      },
      "cell_type": "code",
      "source": [
        "# These are the initial parameters before tuning.\n",
        "def drop_features(l):\n",
        "    return [x for x in train.columns if x not in l]"
      ],
      "execution_count": null,
      "outputs": []
    },
    {
      "metadata": {
        "id": "jgoA5DT7y0qj"
      },
      "cell_type": "markdown",
      "source": [
        "### First Prediction: Use of initial parameters and without feature engineering"
      ]
    },
    {
      "metadata": {
        "id": "Qjz-FBOZ00Hn"
      },
      "cell_type": "code",
      "source": [
        "from xgboost import XGBClassifier\n",
        "import xgboost as xgb"
      ],
      "execution_count": null,
      "outputs": []
    },
    {
      "metadata": {
        "id": "yTNEx7Jfy0qj",
        "outputId": "6684e365-08e3-406f-8d54-adb6636c2eca",
        "colab": {
          "base_uri": "https://localhost:8080/",
          "height": 158
        }
      },
      "cell_type": "code",
      "source": [
        "predictors = drop_features([target, IDcol])\n",
        "xgb1=XgbClass()\n",
        "first_model=modelfit(xgb1, train, predictors)\n",
        "xgb1.fit(train[predictors],train['Churn'])"
      ],
      "execution_count": null,
      "outputs": [
        {
          "output_type": "stream",
          "text": [
            "{'base_score': 0.5, 'booster': 'gbtree', 'colsample_bylevel': 1, 'colsample_bytree': 0.8, 'gamma': 0, 'learning_rate': 0.1, 'max_delta_step': 0, 'max_depth': 5, 'min_child_weight': 1, 'missing': None, 'n_estimators': 33, 'nthread': 1, 'objective': 'binary:logistic', 'reg_alpha': 0, 'reg_lambda': 1, 'scale_pos_weight': 1, 'seed': 0, 'silent': 1, 'subsample': 0.8}\n"
          ],
          "name": "stdout"
        },
        {
          "output_type": "execute_result",
          "data": {
            "text/plain": [
              "XGBClassifier(base_score=0.5, booster='gbtree', colsample_bylevel=1,\n",
              "       colsample_bytree=0.8, gamma=0, learning_rate=0.1, max_delta_step=0,\n",
              "       max_depth=5, min_child_weight=1, missing=None, n_estimators=33,\n",
              "       n_jobs=1, nthread=None, objective='binary:logistic', random_state=0,\n",
              "       reg_alpha=0, reg_lambda=1, scale_pos_weight=1, seed=None,\n",
              "       silent=True, subsample=0.8)"
            ]
          },
          "metadata": {
            "tags": []
          },
          "execution_count": 42
        }
      ]
    },
    {
      "metadata": {
        "id": "GpuBOp0Yy0qm",
        "outputId": "c1df232f-f1c1-4029-8e47-b159d9d7f1fa",
        "colab": {
          "base_uri": "https://localhost:8080/",
          "height": 86
        }
      },
      "cell_type": "code",
      "source": [
        "get_accuracy(first_model,predictors)"
      ],
      "execution_count": null,
      "outputs": [
        {
          "output_type": "stream",
          "text": [
            "\n",
            "Model Report\n",
            "Accuracy : 0.8022\n",
            "AUC Score (Train): 0.849018\n"
          ],
          "name": "stdout"
        }
      ]
    },
    {
      "metadata": {
        "id": "2jOlGPtm07C2"
      },
      "cell_type": "markdown",
      "source": [
        "**Accuracy** is the proportion of true positives and negatives in the whole data set. It determines if a value is accurate compare it to the accepted value; the nearness of a calculation to the true value.\n",
        "\n",
        "**AUC** (area under the ROC receiver operating characteristic curve) measures how true positive rate (recall) and false positive rate trade off, so in that sense it is already measuring something else. More importantly, AUC is not a function of threshold. It is an evaluation of the classifier as threshold varies over all possible values. It is in a sense a broader metric, testing the quality of the internal value that the classifier generates and then compares to a threshold.\n",
        "\n",
        "**Accuracy vs AUC**: The accuracy depends on the threshold chosen, whereas the AUC considers all possible thresholds. Because of this it is often preferred as it provides a “broader” view of the performance of the classifier, but they still measure different things and as such using one or the other is problem-dependent."
      ]
    },
    {
      "metadata": {
        "id": "LTOwEH9iy0qp",
        "outputId": "07ef1781-3170-493d-dfe3-ee190db8ff1f",
        "colab": {
          "base_uri": "https://localhost:8080/",
          "height": 676
        }
      },
      "cell_type": "code",
      "source": [
        "get_feature_importances(first_model)"
      ],
      "execution_count": null,
      "outputs": [
        {
          "output_type": "stream",
          "text": [
            "MonthlyCharges      270\n",
            "tenure              195\n",
            "PaymentMethod        58\n",
            "Contract             57\n",
            "InternetService      42\n",
            "OnlineBackup         39\n",
            "StreamingTV          26\n",
            "PaperlessBilling     26\n",
            "OnlineSecurity       25\n",
            "SeniorCitizen        24\n",
            "TechSupport          23\n",
            "Partner              20\n",
            "PhoneService         18\n",
            "MultipleLines        18\n",
            "StreamingMovies      16\n",
            "gender               16\n",
            "Dependents           16\n",
            "DeviceProtection     12\n",
            "dtype: int64\n"
          ],
          "name": "stdout"
        },
        {
          "output_type": "display_data",
          "data": {
            "image/png": "[encoded data removed]",
            "text/plain": [
              "<Figure size 432x288 with 1 Axes>"
            ]
          },
          "metadata": {
            "tags": []
          }
        }
      ]
    },
    {
      "metadata": {
        "id": "k7tki9U_y0qt"
      },
      "cell_type": "markdown",
      "source": [
        "### Second Prediction: Using intial Parameters and removing features of least importances"
      ]
    },
    {
      "metadata": {
        "id": "e8ICSpTry0qt"
      },
      "cell_type": "code",
      "source": [
        "# Model after removing the features of least importance."
      ],
      "execution_count": null,
      "outputs": []
    },
    {
      "metadata": {
        "id": "UwzYOgb7y0qx"
      },
      "cell_type": "code",
      "source": [
        "dropl=['DeviceProtection','Dependents','Dependents','gender','StreamingMovies','MultipleLines']"
      ],
      "execution_count": null,
      "outputs": []
    },
    {
      "metadata": {
        "id": "2-MObariy0q0"
      },
      "cell_type": "code",
      "source": [
        "dropl_first=dropl+[target,IDcol]"
      ],
      "execution_count": null,
      "outputs": []
    },
    {
      "metadata": {
        "id": "VKroiJ2hy0q2",
        "outputId": "4f53bb18-d7c7-4650-8173-eba50ab25962",
        "colab": {
          "base_uri": "https://localhost:8080/",
          "height": 55
        }
      },
      "cell_type": "code",
      "source": [
        "# These are the initial parameters before tuning.\n",
        "predictors = drop_features(dropl_first)\n",
        "xgb1 = XgbClass()\n",
        "second_model=modelfit(xgb1, train, predictors)"
      ],
      "execution_count": null,
      "outputs": [
        {
          "output_type": "stream",
          "text": [
            "{'base_score': 0.5, 'booster': 'gbtree', 'colsample_bylevel': 1, 'colsample_bytree': 0.8, 'gamma': 0, 'learning_rate': 0.1, 'max_delta_step': 0, 'max_depth': 5, 'min_child_weight': 1, 'missing': None, 'n_estimators': 35, 'nthread': 1, 'objective': 'binary:logistic', 'reg_alpha': 0, 'reg_lambda': 1, 'scale_pos_weight': 1, 'seed': 0, 'silent': 1, 'subsample': 0.8}\n"
          ],
          "name": "stdout"
        }
      ]
    },
    {
      "metadata": {
        "id": "0ny8g14-y0q5",
        "outputId": "2c65b5b2-9eac-44bb-eb8d-2b158b92eef1",
        "colab": {
          "base_uri": "https://localhost:8080/",
          "height": 86
        }
      },
      "cell_type": "code",
      "source": [
        "get_accuracy(second_model,predictors)"
      ],
      "execution_count": null,
      "outputs": [
        {
          "output_type": "stream",
          "text": [
            "\n",
            "Model Report\n",
            "Accuracy : 0.8069\n",
            "AUC Score (Train): 0.847366\n"
          ],
          "name": "stdout"
        }
      ]
    },
    {
      "metadata": {
        "id": "-qIp7Hsey0q8",
        "outputId": "6148a24b-7a59-4676-8c8b-93127f1295cf",
        "colab": {
          "base_uri": "https://localhost:8080/",
          "height": 585
        }
      },
      "cell_type": "code",
      "source": [
        "get_feature_importances(second_model)"
      ],
      "execution_count": null,
      "outputs": [
        {
          "output_type": "stream",
          "text": [
            "MonthlyCharges      289\n",
            "tenure              190\n",
            "PaymentMethod        87\n",
            "Contract             63\n",
            "InternetService      57\n",
            "SeniorCitizen        38\n",
            "PaperlessBilling     35\n",
            "StreamingTV          30\n",
            "OnlineSecurity       29\n",
            "TechSupport          28\n",
            "OnlineBackup         28\n",
            "PhoneService         26\n",
            "Partner              26\n",
            "dtype: int64\n"
          ],
          "name": "stdout"
        },
        {
          "output_type": "display_data",
          "data": {
            "image/png": "[encoded data removed]",
            "text/plain": [
              "<Figure size 432x288 with 1 Axes>"
            ]
          },
          "metadata": {
            "tags": []
          }
        }
      ]
    },
    {
      "metadata": {
        "id": "YXh08Urby0q-"
      },
      "cell_type": "markdown",
      "source": [
        "### Third Prediction: Again removing the features of least importance"
      ]
    },
    {
      "metadata": {
        "id": "luJXI3key0q-"
      },
      "cell_type": "code",
      "source": [
        "dropl1=dropl+['Partner','PhoneService','OnlineBackup','TechSupport','OnlineSecurity']\n",
        "dropl_second=dropl_first+['Partner','PhoneService','OnlineBackup','TechSupport','OnlineSecurity']"
      ],
      "execution_count": null,
      "outputs": []
    },
    {
      "metadata": {
        "id": "mOO6UZLsy0rB"
      },
      "cell_type": "code",
      "source": [
        "predictors=drop_features(dropl_second)"
      ],
      "execution_count": null,
      "outputs": []
    },
    {
      "metadata": {
        "id": "U5g3UZTFy0rD",
        "outputId": "52937477-816e-4e1f-9931-39f43e7699da",
        "colab": {
          "base_uri": "https://localhost:8080/",
          "height": 55
        }
      },
      "cell_type": "code",
      "source": [
        "xgb1=XgbClass()\n",
        "third_model=modelfit(xgb1,train,predictors)"
      ],
      "execution_count": null,
      "outputs": [
        {
          "output_type": "stream",
          "text": [
            "{'base_score': 0.5, 'booster': 'gbtree', 'colsample_bylevel': 1, 'colsample_bytree': 0.8, 'gamma': 0, 'learning_rate': 0.1, 'max_delta_step': 0, 'max_depth': 5, 'min_child_weight': 1, 'missing': None, 'n_estimators': 50, 'nthread': 1, 'objective': 'binary:logistic', 'reg_alpha': 0, 'reg_lambda': 1, 'scale_pos_weight': 1, 'seed': 0, 'silent': 1, 'subsample': 0.8}\n"
          ],
          "name": "stdout"
        }
      ]
    },
    {
      "metadata": {
        "id": "HRB8Q3wWy0rG",
        "outputId": "da316409-2da7-493a-a11e-b2cb92f5d985",
        "colab": {
          "base_uri": "https://localhost:8080/",
          "height": 86
        }
      },
      "cell_type": "code",
      "source": [
        "get_accuracy(third_model,predictors)"
      ],
      "execution_count": null,
      "outputs": [
        {
          "output_type": "stream",
          "text": [
            "\n",
            "Model Report\n",
            "Accuracy : 0.7984\n",
            "AUC Score (Train): 0.843116\n"
          ],
          "name": "stdout"
        }
      ]
    },
    {
      "metadata": {
        "id": "BBMTnnlPy0rO"
      },
      "cell_type": "markdown",
      "source": [
        "## 8: Predict on New Cases"
      ]
    },
    {
      "metadata": {
        "id": "t21bqh6_y0rQ"
      },
      "cell_type": "code",
      "source": [
        "# Function stores the result in required csv file and features. I removed this section for now as the csv files are not yet saving correctly. See prototype version of notebook for details."
      ],
      "execution_count": null,
      "outputs": []
    },
    {
      "metadata": {
        "id": "Alep7Q3Ky0rr"
      },
      "cell_type": "markdown",
      "source": [
        "## 9: Tuning"
      ]
    },
    {
      "metadata": {
        "id": "jyqfjclly0ru"
      },
      "cell_type": "code",
      "source": [
        "# Tune max_depth and min_child_weight."
      ],
      "execution_count": null,
      "outputs": []
    },
    {
      "metadata": {
        "id": "3j-9y92iy0ry",
        "outputId": "f27079eb-d7c5-4197-a013-e97027062eb0",
        "colab": {
          "base_uri": "https://localhost:8080/",
          "height": 242
        }
      },
      "cell_type": "code",
      "source": [
        "predictors = drop_features(dropl_first)\n",
        "predictors"
      ],
      "execution_count": null,
      "outputs": [
        {
          "output_type": "execute_result",
          "data": {
            "text/plain": [
              "['SeniorCitizen',\n",
              " 'Partner',\n",
              " 'tenure',\n",
              " 'PhoneService',\n",
              " 'InternetService',\n",
              " 'OnlineSecurity',\n",
              " 'OnlineBackup',\n",
              " 'TechSupport',\n",
              " 'StreamingTV',\n",
              " 'Contract',\n",
              " 'PaperlessBilling',\n",
              " 'PaymentMethod',\n",
              " 'MonthlyCharges']"
            ]
          },
          "metadata": {
            "tags": []
          },
          "execution_count": 65
        }
      ]
    },
    {
      "metadata": {
        "id": "6L3sYX43y0r2",
        "outputId": "d561721a-91a5-4a25-f402-094aa979f568",
        "colab": {
          "base_uri": "https://localhost:8080/",
          "height": 2453
        }
      },
      "cell_type": "code",
      "source": [
        "param_test1 = {\n",
        " 'max_depth':list(range(5,10,1)),\n",
        " 'min_child_weight':list(range(5,10,1))\n",
        "}\n",
        "gsearch1 = GridSearchCV(estimator=XgbClass(n_estimators=48),param_grid =param_test1,\n",
        "                        scoring='roc_auc',n_jobs=-1,iid=False, cv=5, verbose=3)\n",
        "gsearch1.fit(train[predictors],train[target])\n",
        "gsearch1.cv_results_, gsearch1.best_params_, gsearch1.best_score_"
      ],
      "execution_count": null,
      "outputs": [
        {
          "output_type": "stream",
          "text": [
            "Fitting 5 folds for each of 25 candidates, totalling 125 fits\n"
          ],
          "name": "stdout"
        },
        {
          "output_type": "stream",
          "text": [
            "[Parallel(n_jobs=-1)]: Using backend LokyBackend with 2 concurrent workers.\n",
            "[Parallel(n_jobs=-1)]: Done  28 tasks      | elapsed:    5.5s\n",
            "[Parallel(n_jobs=-1)]: Done 125 out of 125 | elapsed:   21.5s finished\n"
          ],
          "name": "stderr"
        },
        {
          "output_type": "execute_result",
          "data": {
            "text/plain": [
              "({'mean_fit_time': array([0.20724802, 0.20932374, 0.20880656, 0.20871305, 0.21010675,\n",
              "         0.24907684, 0.25009632, 0.24860916, 0.24591808, 0.24454684,\n",
              "         0.28334703, 0.28474541, 0.28169541, 0.28036094, 0.27825117,\n",
              "         0.31879997, 0.31600304, 0.31035895, 0.30742917, 0.3038981 ,\n",
              "         0.34530797, 0.33879218, 0.3390099 , 0.32813511, 0.31488495]),\n",
              "  'mean_score_time': array([0.00653849, 0.00614457, 0.00613132, 0.00614538, 0.00614262,\n",
              "         0.00677257, 0.00668726, 0.00675406, 0.00672469, 0.00657935,\n",
              "         0.00738587, 0.00716372, 0.0071681 , 0.00734129, 0.006917  ,\n",
              "         0.00756946, 0.00752988, 0.00749302, 0.00734549, 0.00724516,\n",
              "         0.00789227, 0.00772715, 0.00758004, 0.00755405, 0.00721326]),\n",
              "  'mean_test_score': array([0.84350596, 0.84539506, 0.84513634, 0.84523376, 0.84500423,\n",
              "         0.84303827, 0.84317968, 0.84321582, 0.84356301, 0.84444605,\n",
              "         0.84189866, 0.84086484, 0.84214285, 0.84234019, 0.84326609,\n",
              "         0.83943562, 0.84043105, 0.84044683, 0.84067936, 0.84160174,\n",
              "         0.83793307, 0.83905003, 0.83998942, 0.8404559 , 0.84161988]),\n",
              "  'mean_train_score': array([0.88767187, 0.88560265, 0.88406431, 0.8823102 , 0.88154261,\n",
              "         0.90002083, 0.8966265 , 0.89396688, 0.89145018, 0.88902145,\n",
              "         0.91041047, 0.90512838, 0.90149971, 0.89814357, 0.89440826,\n",
              "         0.91758409, 0.91176831, 0.90613064, 0.90168702, 0.89814501,\n",
              "         0.92202018, 0.91590616, 0.90966859, 0.90400883, 0.89984424]),\n",
              "  'param_max_depth': masked_array(data=[5, 5, 5, 5, 5, 6, 6, 6, 6, 6, 7, 7, 7, 7, 7, 8, 8, 8,\n",
              "                     8, 8, 9, 9, 9, 9, 9],\n",
              "               mask=[False, False, False, False, False, False, False, False,\n",
              "                     False, False, False, False, False, False, False, False,\n",
              "                     False, False, False, False, False, False, False, False,\n",
              "                     False],\n",
              "         fill_value='?',\n",
              "              dtype=object),\n",
              "  'param_min_child_weight': masked_array(data=[5, 6, 7, 8, 9, 5, 6, 7, 8, 9, 5, 6, 7, 8, 9, 5, 6, 7,\n",
              "                     8, 9, 5, 6, 7, 8, 9],\n",
              "               mask=[False, False, False, False, False, False, False, False,\n",
              "                     False, False, False, False, False, False, False, False,\n",
              "                     False, False, False, False, False, False, False, False,\n",
              "                     False],\n",
              "         fill_value='?',\n",
              "              dtype=object),\n",
              "  'params': [{'max_depth': 5, 'min_child_weight': 5},\n",
              "   {'max_depth': 5, 'min_child_weight': 6},\n",
              "   {'max_depth': 5, 'min_child_weight': 7},\n",
              "   {'max_depth': 5, 'min_child_weight': 8},\n",
              "   {'max_depth': 5, 'min_child_weight': 9},\n",
              "   {'max_depth': 6, 'min_child_weight': 5},\n",
              "   {'max_depth': 6, 'min_child_weight': 6},\n",
              "   {'max_depth': 6, 'min_child_weight': 7},\n",
              "   {'max_depth': 6, 'min_child_weight': 8},\n",
              "   {'max_depth': 6, 'min_child_weight': 9},\n",
              "   {'max_depth': 7, 'min_child_weight': 5},\n",
              "   {'max_depth': 7, 'min_child_weight': 6},\n",
              "   {'max_depth': 7, 'min_child_weight': 7},\n",
              "   {'max_depth': 7, 'min_child_weight': 8},\n",
              "   {'max_depth': 7, 'min_child_weight': 9},\n",
              "   {'max_depth': 8, 'min_child_weight': 5},\n",
              "   {'max_depth': 8, 'min_child_weight': 6},\n",
              "   {'max_depth': 8, 'min_child_weight': 7},\n",
              "   {'max_depth': 8, 'min_child_weight': 8},\n",
              "   {'max_depth': 8, 'min_child_weight': 9},\n",
              "   {'max_depth': 9, 'min_child_weight': 5},\n",
              "   {'max_depth': 9, 'min_child_weight': 6},\n",
              "   {'max_depth': 9, 'min_child_weight': 7},\n",
              "   {'max_depth': 9, 'min_child_weight': 8},\n",
              "   {'max_depth': 9, 'min_child_weight': 9}],\n",
              "  'rank_test_score': array([ 7,  1,  3,  2,  4, 11, 10,  9,  6,  5, 14, 17, 13, 12,  8, 23, 21,\n",
              "         20, 18, 16, 25, 24, 22, 19, 15], dtype=int32),\n",
              "  'split0_test_score': array([0.85533496, 0.85848295, 0.85964135, 0.85946191, 0.85960968,\n",
              "         0.85605797, 0.85637461, 0.85443252, 0.85820852, 0.8591954 ,\n",
              "         0.85445363, 0.85355646, 0.85305247, 0.85441405, 0.85572285,\n",
              "         0.85335328, 0.85304191, 0.85166978, 0.8531026 , 0.85502095,\n",
              "         0.85157215, 0.85103913, 0.85164867, 0.85140855, 0.85455126]),\n",
              "  'split0_train_score': array([0.88630849, 0.88413238, 0.88187119, 0.88028313, 0.87891934,\n",
              "         0.89834564, 0.89356391, 0.8907736 , 0.88818437, 0.88543047,\n",
              "         0.90849134, 0.90241369, 0.8988751 , 0.89501791, 0.89122246,\n",
              "         0.91541029, 0.90944683, 0.90365997, 0.89851959, 0.89479034,\n",
              "         0.9209901 , 0.91266714, 0.90661894, 0.90047226, 0.8966495 ]),\n",
              "  'split1_test_score': array([0.86176815, 0.86208216, 0.86366803, 0.86432771, 0.86315612,\n",
              "         0.86230117, 0.86139345, 0.86055698, 0.86137234, 0.86060712,\n",
              "         0.86025353, 0.85831671, 0.86078127, 0.86040921, 0.86164677,\n",
              "         0.85672292, 0.8595358 , 0.8587389 , 0.85800006, 0.85690763,\n",
              "         0.85471222, 0.85673348, 0.85422142, 0.85846976, 0.86049101]),\n",
              "  'split1_train_score': array([0.88363999, 0.8811072 , 0.87970882, 0.87791801, 0.87807193,\n",
              "         0.89722167, 0.89424465, 0.89182259, 0.88859285, 0.88638976,\n",
              "         0.90832352, 0.90377384, 0.89964091, 0.89565479, 0.89128734,\n",
              "         0.91559317, 0.9094753 , 0.90397096, 0.90019255, 0.89575178,\n",
              "         0.9197127 , 0.91436013, 0.90821743, 0.90235079, 0.89687294]),\n",
              "  'split2_test_score': array([0.81757523, 0.81990623, 0.81852617, 0.81932613, 0.81871954,\n",
              "         0.81587466, 0.81703751, 0.81771297, 0.81484425, 0.81874073,\n",
              "         0.81657396, 0.81532634, 0.81548262, 0.81560712, 0.81684414,\n",
              "         0.81267218, 0.81395953, 0.81499258, 0.81561772, 0.81693155,\n",
              "         0.81224306, 0.81339532, 0.81723088, 0.81488928, 0.81627993]),\n",
              "  'split2_train_score': array([0.89099069, 0.88938084, 0.88906701, 0.88680105, 0.88642967,\n",
              "         0.90339114, 0.90015655, 0.89843344, 0.89634821, 0.89388498,\n",
              "         0.91316102, 0.90807683, 0.90516038, 0.90238299, 0.89950127,\n",
              "         0.92076019, 0.91463495, 0.91007013, 0.90584427, 0.9031365 ,\n",
              "         0.92455613, 0.91846364, 0.91328272, 0.90766709, 0.90365255]),\n",
              "  'split3_test_score': array([0.86040584, 0.86242175, 0.86137666, 0.86018568, 0.86159151,\n",
              "         0.85923342, 0.85971353, 0.85983024, 0.86107958, 0.86200796,\n",
              "         0.8575252 , 0.85744562, 0.85940584, 0.8597878 , 0.85980902,\n",
              "         0.85613793, 0.85676127, 0.85572679, 0.85442706, 0.85940053,\n",
              "         0.85435279, 0.8555305 , 0.855     , 0.85561008, 0.85731565]),\n",
              "  'split3_train_score': array([0.88514281, 0.88368691, 0.88124503, 0.87954003, 0.87928201,\n",
              "         0.89676376, 0.89369161, 0.89063336, 0.88962639, 0.8864316 ,\n",
              "         0.90833329, 0.90282704, 0.89891356, 0.89600985, 0.89193951,\n",
              "         0.91557314, 0.90950754, 0.90393765, 0.89954201, 0.89668441,\n",
              "         0.9202997 , 0.9147313 , 0.90729608, 0.9023872 , 0.89886943]),\n",
              "  'split4_test_score': array([0.82244562, 0.82408223, 0.8224695 , 0.82286737, 0.8219443 ,\n",
              "         0.82172414, 0.82137931, 0.82354642, 0.82231034, 0.82167905,\n",
              "         0.820687  , 0.81967905, 0.82199204, 0.82148276, 0.82230769,\n",
              "         0.81829178, 0.81885676, 0.8211061 , 0.82224934, 0.81974801,\n",
              "         0.81678515, 0.81855172, 0.82184615, 0.82190186, 0.81946154]),\n",
              "  'split4_train_score': array([0.89227736, 0.8897059 , 0.8884295 , 0.88700881, 0.88501008,\n",
              "         0.90438196, 0.90147577, 0.89817139, 0.89449907, 0.89297044,\n",
              "         0.91374318, 0.90855049, 0.90490858, 0.9016523 , 0.89809073,\n",
              "         0.92058368, 0.91577695, 0.90901447, 0.90433667, 0.90036203,\n",
              "         0.92454229, 0.9193086 , 0.91292779, 0.90716682, 0.9031768 ]),\n",
              "  'std_fit_time': array([0.0006232 , 0.00222392, 0.00071557, 0.00141248, 0.00287078,\n",
              "         0.00302355, 0.00421593, 0.00283339, 0.00067   , 0.00075281,\n",
              "         0.00040904, 0.0030883 , 0.00151462, 0.00315502, 0.00373123,\n",
              "         0.00543478, 0.00418169, 0.00224869, 0.00386291, 0.00296154,\n",
              "         0.0026668 , 0.002147  , 0.00540497, 0.00303361, 0.01307323]),\n",
              "  'std_score_time': array([5.17995880e-04, 4.87567801e-05, 6.88963857e-05, 9.80356324e-05,\n",
              "         1.15736247e-04, 1.29857073e-04, 9.10139123e-05, 1.42581216e-04,\n",
              "         1.43927402e-04, 6.40586666e-05, 3.89769610e-04, 7.13413409e-05,\n",
              "         9.65980053e-05, 5.43650168e-04, 4.99744906e-05, 1.01841143e-04,\n",
              "         8.67198348e-05, 1.02682871e-04, 8.94820724e-05, 1.22000686e-04,\n",
              "         1.31548613e-04, 8.99962397e-05, 1.82735049e-05, 6.34969151e-05,\n",
              "         7.68520899e-04]),\n",
              "  'std_test_score': array([0.01936481, 0.01920197, 0.0201963 , 0.01980929, 0.02020195,\n",
              "         0.01997503, 0.01968698, 0.01865395, 0.02056666, 0.0198305 ,\n",
              "         0.01913109, 0.01919177, 0.01939713, 0.01962843, 0.01951442,\n",
              "         0.01967162, 0.01978329, 0.01852573, 0.01795046, 0.01906487,\n",
              "         0.01920616, 0.01900733, 0.01679842, 0.01828668, 0.01950796]),\n",
              "  'std_train_score': array([0.00336857, 0.00338089, 0.00389385, 0.00382933, 0.00346249,\n",
              "         0.00321336, 0.00345378, 0.0035647 , 0.00332994, 0.00362703,\n",
              "         0.00249101, 0.00264215, 0.0029001 , 0.00318749, 0.00361894,\n",
              "         0.00252263, 0.00283002, 0.00280762, 0.00286951, 0.00312873,\n",
              "         0.00210417, 0.00254476, 0.00285375, 0.002872  , 0.00301975])},\n",
              " {'max_depth': 5, 'min_child_weight': 6},\n",
              " 0.8453950633251575)"
            ]
          },
          "metadata": {
            "tags": []
          },
          "execution_count": 66
        }
      ]
    },
    {
      "metadata": {
        "id": "3vc7mUGry0r6"
      },
      "cell_type": "code",
      "source": [
        "# If the best parameters are edge values then we do\n",
        "# GridSearchCV by taking one less and one value more than the best parameters."
      ],
      "execution_count": null,
      "outputs": []
    },
    {
      "metadata": {
        "id": "3ToEbGG2y0sF",
        "outputId": "390d1fba-4859-4fea-8ac6-96cb10774fab",
        "colab": {
          "base_uri": "https://localhost:8080/",
          "height": 1779
        }
      },
      "cell_type": "code",
      "source": [
        "param_test2 = {\n",
        " 'max_depth':[6,7,8,9],\n",
        " 'min_child_weight':[2,3,4,5]\n",
        "}\n",
        "gsearch2 = GridSearchCV(estimator=XgbClass(n_estimators=48),param_grid =param_test2,scoring='roc_auc',n_jobs=-1,iid=False, cv=5)\n",
        "gsearch2.fit(train[predictors],train[target])\n",
        "gsearch2.cv_results_, gsearch2.best_params_, gsearch2.best_score_"
      ],
      "execution_count": null,
      "outputs": [
        {
          "output_type": "execute_result",
          "data": {
            "text/plain": [
              "({'mean_fit_time': array([0.25651345, 0.24808664, 0.25345564, 0.24944706, 0.28951616,\n",
              "         0.28822298, 0.28571844, 0.28517208, 0.32676215, 0.32411208,\n",
              "         0.32022843, 0.31513767, 0.36551666, 0.35565701, 0.34868417,\n",
              "         0.3419539 ]),\n",
              "  'mean_score_time': array([0.00697908, 0.00703349, 0.00803852, 0.00803237, 0.00733232,\n",
              "         0.00735245, 0.00715566, 0.00723968, 0.00774646, 0.00772562,\n",
              "         0.00789828, 0.00892334, 0.00814891, 0.00829682, 0.0079906 ,\n",
              "         0.00785379]),\n",
              "  'mean_test_score': array([0.84042715, 0.84189787, 0.8428498 , 0.84303827, 0.8398022 ,\n",
              "         0.83976764, 0.84035653, 0.84189866, 0.83624953, 0.8369503 ,\n",
              "         0.83858558, 0.83943562, 0.83412339, 0.83550116, 0.83753711,\n",
              "         0.83793307]),\n",
              "  'mean_train_score': array([0.91253411, 0.90805523, 0.90370692, 0.90002083, 0.93031609,\n",
              "         0.92219569, 0.9160066 , 0.91041047, 0.94335466, 0.93313675,\n",
              "         0.92526439, 0.91758409, 0.95263699, 0.94049106, 0.93067881,\n",
              "         0.92202018]),\n",
              "  'param_max_depth': masked_array(data=[6, 6, 6, 6, 7, 7, 7, 7, 8, 8, 8, 8, 9, 9, 9, 9],\n",
              "               mask=[False, False, False, False, False, False, False, False,\n",
              "                     False, False, False, False, False, False, False, False],\n",
              "         fill_value='?',\n",
              "              dtype=object),\n",
              "  'param_min_child_weight': masked_array(data=[2, 3, 4, 5, 2, 3, 4, 5, 2, 3, 4, 5, 2, 3, 4, 5],\n",
              "               mask=[False, False, False, False, False, False, False, False,\n",
              "                     False, False, False, False, False, False, False, False],\n",
              "         fill_value='?',\n",
              "              dtype=object),\n",
              "  'params': [{'max_depth': 6, 'min_child_weight': 2},\n",
              "   {'max_depth': 6, 'min_child_weight': 3},\n",
              "   {'max_depth': 6, 'min_child_weight': 4},\n",
              "   {'max_depth': 6, 'min_child_weight': 5},\n",
              "   {'max_depth': 7, 'min_child_weight': 2},\n",
              "   {'max_depth': 7, 'min_child_weight': 3},\n",
              "   {'max_depth': 7, 'min_child_weight': 4},\n",
              "   {'max_depth': 7, 'min_child_weight': 5},\n",
              "   {'max_depth': 8, 'min_child_weight': 2},\n",
              "   {'max_depth': 8, 'min_child_weight': 3},\n",
              "   {'max_depth': 8, 'min_child_weight': 4},\n",
              "   {'max_depth': 8, 'min_child_weight': 5},\n",
              "   {'max_depth': 9, 'min_child_weight': 2},\n",
              "   {'max_depth': 9, 'min_child_weight': 3},\n",
              "   {'max_depth': 9, 'min_child_weight': 4},\n",
              "   {'max_depth': 9, 'min_child_weight': 5}],\n",
              "  'rank_test_score': array([ 5,  4,  2,  1,  7,  8,  6,  3, 14, 13, 10,  9, 16, 15, 12, 11],\n",
              "        dtype=int32),\n",
              "  'split0_test_score': array([0.85201281, 0.85469639, 0.85603686, 0.85605797, 0.85242973,\n",
              "         0.85254847, 0.85429003, 0.85445363, 0.85053777, 0.85385728,\n",
              "         0.85487054, 0.85335328, 0.84824736, 0.84973032, 0.85418976,\n",
              "         0.85157215]),\n",
              "  'split0_train_score': array([0.91148358, 0.90560685, 0.90161312, 0.89834564, 0.92849395,\n",
              "         0.92024249, 0.91378102, 0.90849134, 0.94190912, 0.93158301,\n",
              "         0.92334943, 0.91541029, 0.9510391 , 0.93836176, 0.92880974,\n",
              "         0.9209901 ]),\n",
              "  'split1_test_score': array([0.85990522, 0.85973634, 0.86111375, 0.86230117, 0.85988938,\n",
              "         0.8550447 , 0.85755148, 0.86025353, 0.85225294, 0.8535723 ,\n",
              "         0.85539829, 0.85672292, 0.8508122 , 0.85301289, 0.85464889,\n",
              "         0.85471222]),\n",
              "  'split1_train_score': array([0.90947331, 0.90446385, 0.90123625, 0.89722167, 0.92682446,\n",
              "         0.9191551 , 0.91332802, 0.90832352, 0.94059167, 0.93181902,\n",
              "         0.92325393, 0.91559317, 0.95017398, 0.93944883, 0.92811973,\n",
              "         0.9197127 ]),\n",
              "  'split2_test_score': array([0.8133185 , 0.81663488, 0.81519919, 0.81587466, 0.81185103,\n",
              "         0.81467472, 0.81574751, 0.81657396, 0.80718902, 0.80890284,\n",
              "         0.81256357, 0.81267218, 0.80743272, 0.80867504, 0.80908296,\n",
              "         0.81224306]),\n",
              "  'split2_train_score': array([0.91551908, 0.91167832, 0.90627402, 0.90339114, 0.93302008,\n",
              "         0.92473686, 0.91910834, 0.91316102, 0.94496118, 0.93506216,\n",
              "         0.92860407, 0.92076019, 0.9545257 , 0.94268249, 0.93376879,\n",
              "         0.92455613]),\n",
              "  'split3_test_score': array([0.85745623, 0.85734218, 0.85870822, 0.85923342, 0.85657029,\n",
              "         0.85755172, 0.85538727, 0.8575252 , 0.85302653, 0.85191777,\n",
              "         0.85208753, 0.85613793, 0.85095491, 0.85195491, 0.85145889,\n",
              "         0.85435279]),\n",
              "  'split3_train_score': array([0.91158164, 0.90663953, 0.9014004 , 0.89676376, 0.92998374,\n",
              "         0.92220603, 0.91476188, 0.90833329, 0.94454013, 0.93234   ,\n",
              "         0.92414641, 0.91557314, 0.95348696, 0.93986018, 0.92970754,\n",
              "         0.9202997 ]),\n",
              "  'split4_test_score': array([0.81944297, 0.82107958, 0.82319098, 0.82172414, 0.81827056,\n",
              "         0.81901857, 0.81880637, 0.820687  , 0.81824138, 0.81650133,\n",
              "         0.81800796, 0.81829178, 0.81316976, 0.81413263, 0.81830504,\n",
              "         0.81678515]),\n",
              "  'split4_train_score': array([0.91461295, 0.9118876 , 0.90801081, 0.90438196, 0.9332582 ,\n",
              "         0.92463799, 0.91905372, 0.91374318, 0.94477121, 0.93487956,\n",
              "         0.92696813, 0.92058368, 0.9539592 , 0.94210205, 0.93298828,\n",
              "         0.92454229]),\n",
              "  'std_fit_time': array([0.00494181, 0.00113587, 0.00906541, 0.00404031, 0.00261352,\n",
              "         0.00370727, 0.0011786 , 0.00209242, 0.00205462, 0.00197183,\n",
              "         0.00304541, 0.00198408, 0.00309444, 0.00160216, 0.00476515,\n",
              "         0.00210007]),\n",
              "  'std_score_time': array([2.21049518e-04, 5.95517947e-04, 2.34343434e-03, 2.20813946e-03,\n",
              "         1.06994969e-04, 1.54404231e-04, 1.23558528e-04, 1.59221032e-04,\n",
              "         9.51900024e-05, 8.68762232e-05, 2.98474710e-04, 2.33817485e-03,\n",
              "         8.16554918e-05, 2.18232568e-04, 1.15529289e-04, 9.60403070e-05]),\n",
              "  'std_test_score': array([0.01989385, 0.0189323 , 0.01954474, 0.01997503, 0.02044015,\n",
              "         0.01883184, 0.01889839, 0.01913109, 0.01954757, 0.01995486,\n",
              "         0.01913506, 0.01967162, 0.01955888, 0.01977934, 0.01971523,\n",
              "         0.01920616]),\n",
              "  'std_train_score': array([0.0022186 , 0.00312124, 0.00286083, 0.00321336, 0.00251355,\n",
              "         0.00225755, 0.00255277, 0.00249101, 0.00177294, 0.00151855,\n",
              "         0.00214547, 0.00252263, 0.00171217, 0.00163804, 0.00227452,\n",
              "         0.00210417])},\n",
              " {'max_depth': 6, 'min_child_weight': 5},\n",
              " 0.8430382710636628)"
            ]
          },
          "metadata": {
            "tags": []
          },
          "execution_count": 68
        }
      ]
    },
    {
      "metadata": {
        "id": "eBhirbgNy0sK",
        "outputId": "e946d1cf-6785-4261-9680-1d57e9130382",
        "colab": {
          "base_uri": "https://localhost:8080/",
          "height": 55
        }
      },
      "cell_type": "code",
      "source": [
        "xgb1 = XgbClass(max_depth=8,min_child_weight=4)\n",
        "model=modelfit(xgb1, train, predictors)"
      ],
      "execution_count": null,
      "outputs": [
        {
          "output_type": "stream",
          "text": [
            "{'base_score': 0.5, 'booster': 'gbtree', 'colsample_bylevel': 1, 'colsample_bytree': 0.8, 'gamma': 0, 'learning_rate': 0.1, 'max_delta_step': 0, 'max_depth': 8, 'min_child_weight': 4, 'missing': None, 'n_estimators': 20, 'nthread': 1, 'objective': 'binary:logistic', 'reg_alpha': 0, 'reg_lambda': 1, 'scale_pos_weight': 1, 'seed': 0, 'silent': 1, 'subsample': 0.8}\n"
          ],
          "name": "stdout"
        }
      ]
    },
    {
      "metadata": {
        "id": "2AHAD8Lhy0sM",
        "outputId": "57beb19f-2f49-4280-dc7b-f9c37eea34cf",
        "colab": {
          "base_uri": "https://localhost:8080/",
          "height": 86
        }
      },
      "cell_type": "code",
      "source": [
        "get_accuracy(model,predictors)"
      ],
      "execution_count": null,
      "outputs": [
        {
          "output_type": "stream",
          "text": [
            "\n",
            "Model Report\n",
            "Accuracy : 0.7979\n",
            "AUC Score (Train): 0.843505\n"
          ],
          "name": "stdout"
        }
      ]
    },
    {
      "metadata": {
        "id": "U6Yk0ZKWy0sO"
      },
      "cell_type": "code",
      "source": [
        "# To tune gamma."
      ],
      "execution_count": null,
      "outputs": []
    },
    {
      "metadata": {
        "id": "15q5_HFVy0sT",
        "outputId": "49c77d37-ac8c-49dd-a6da-e7285d0e36f8",
        "colab": {
          "base_uri": "https://localhost:8080/",
          "height": 898
        }
      },
      "cell_type": "code",
      "source": [
        "param_test3 = {\n",
        " 'gamma':[i/10.0 for i in range(0,8)]\n",
        "}\n",
        "gsearch3=GridSearchCV(estimator=XgbClass(n_estimators=48,max_depth=7,min_child_weight=5),\n",
        "                      param_grid =param_test3,scoring='roc_auc',n_jobs=-1,iid=False, cv=5)\n",
        "gsearch3.fit(train[predictors],train[target])\n",
        "gsearch3.cv_results_, gsearch3.best_params_, gsearch3.best_score_"
      ],
      "execution_count": null,
      "outputs": [
        {
          "output_type": "execute_result",
          "data": {
            "text/plain": [
              "({'mean_fit_time': array([0.28967605, 0.28326716, 0.28377404, 0.28291426, 0.28900743,\n",
              "         0.29015837, 0.29366841, 0.28920174]),\n",
              "  'mean_score_time': array([0.00724435, 0.00734229, 0.00721374, 0.0086863 , 0.00774436,\n",
              "         0.007374  , 0.00738888, 0.00745301]),\n",
              "  'mean_test_score': array([0.84189866, 0.84089109, 0.84198526, 0.84263784, 0.8409183 ,\n",
              "         0.8416148 , 0.84014798, 0.84140207]),\n",
              "  'mean_train_score': array([0.91041047, 0.91040467, 0.91002945, 0.90957837, 0.90951727,\n",
              "         0.90899937, 0.90847181, 0.9084777 ]),\n",
              "  'param_gamma': masked_array(data=[0.0, 0.1, 0.2, 0.3, 0.4, 0.5, 0.6, 0.7],\n",
              "               mask=[False, False, False, False, False, False, False, False],\n",
              "         fill_value='?',\n",
              "              dtype=object),\n",
              "  'params': [{'gamma': 0.0},\n",
              "   {'gamma': 0.1},\n",
              "   {'gamma': 0.2},\n",
              "   {'gamma': 0.3},\n",
              "   {'gamma': 0.4},\n",
              "   {'gamma': 0.5},\n",
              "   {'gamma': 0.6},\n",
              "   {'gamma': 0.7}],\n",
              "  'rank_test_score': array([3, 7, 2, 1, 6, 4, 8, 5], dtype=int32),\n",
              "  'split0_test_score': array([0.85445363, 0.85309733, 0.85385728, 0.85648544, 0.85578354,\n",
              "         0.85621365, 0.85276749, 0.85435072]),\n",
              "  'split0_train_score': array([0.90849134, 0.90862491, 0.9075261 , 0.90689203, 0.90746221,\n",
              "         0.90674291, 0.90655903, 0.90616247]),\n",
              "  'split1_test_score': array([0.86025353, 0.85877057, 0.86091321, 0.86234867, 0.85950413,\n",
              "         0.86038546, 0.85921387, 0.85956218]),\n",
              "  'split1_train_score': array([0.90832352, 0.90845526, 0.90805506, 0.90781805, 0.90647346,\n",
              "         0.90588077, 0.90692894, 0.90635926]),\n",
              "  'split2_test_score': array([0.81657396, 0.81441513, 0.8158879 , 0.81562036, 0.81240199,\n",
              "         0.81340061, 0.81352511, 0.81587466]),\n",
              "  'split2_train_score': array([0.91316102, 0.91337118, 0.9137538 , 0.91278303, 0.91264629,\n",
              "         0.91240107, 0.91079651, 0.91175009]),\n",
              "  'split3_test_score': array([0.8575252 , 0.85714324, 0.85908488, 0.85719629, 0.85713528,\n",
              "         0.8570557 , 0.85439788, 0.85738992]),\n",
              "  'split3_train_score': array([0.90833329, 0.90773328, 0.90699326, 0.90662218, 0.90710401,\n",
              "         0.90726269, 0.9053357 , 0.90596101]),\n",
              "  'split4_test_score': array([0.820687  , 0.82102918, 0.82018302, 0.82153846, 0.81976658,\n",
              "         0.82101857, 0.82083554, 0.81983289]),\n",
              "  'split4_train_score': array([0.91374318, 0.91383872, 0.91381905, 0.91377657, 0.91390037,\n",
              "         0.91270943, 0.91273886, 0.9121557 ]),\n",
              "  'std_fit_time': array([0.00835323, 0.00239522, 0.00252602, 0.00213567, 0.00506065,\n",
              "         0.00166652, 0.00445395, 0.00285593]),\n",
              "  'std_score_time': array([1.31115913e-04, 1.56521563e-04, 1.63058481e-04, 2.64334106e-03,\n",
              "         5.22730925e-04, 6.41514178e-05, 9.90320179e-05, 1.91955440e-04]),\n",
              "  'std_test_score': array([0.01913109, 0.01912209, 0.01973838, 0.01983607, 0.02044492,\n",
              "         0.02012029, 0.01901351, 0.01933881]),\n",
              "  'std_train_score': array([0.00249101, 0.00263427, 0.00308594, 0.00306428, 0.00310851,\n",
              "         0.00293835, 0.00281021, 0.00284317])},\n",
              " {'gamma': 0.3},\n",
              " 0.8426378443221705)"
            ]
          },
          "metadata": {
            "tags": []
          },
          "execution_count": 72
        }
      ]
    },
    {
      "metadata": {
        "id": "OU1BTcThy0sW",
        "outputId": "3c0c75df-2391-4794-c182-75058f3be23d",
        "colab": {
          "base_uri": "https://localhost:8080/",
          "height": 55
        }
      },
      "cell_type": "code",
      "source": [
        "xgb1 = XgbClass(max_depth=7,min_child_weight=5,gamma=0)\n",
        "model=modelfit(xgb1, train, predictors)"
      ],
      "execution_count": null,
      "outputs": [
        {
          "output_type": "stream",
          "text": [
            "{'base_score': 0.5, 'booster': 'gbtree', 'colsample_bylevel': 1, 'colsample_bytree': 0.8, 'gamma': 0, 'learning_rate': 0.1, 'max_delta_step': 0, 'max_depth': 7, 'min_child_weight': 5, 'missing': None, 'n_estimators': 20, 'nthread': 1, 'objective': 'binary:logistic', 'reg_alpha': 0, 'reg_lambda': 1, 'scale_pos_weight': 1, 'seed': 0, 'silent': 1, 'subsample': 0.8}\n"
          ],
          "name": "stdout"
        }
      ]
    },
    {
      "metadata": {
        "id": "3gsJhBfAy0sb",
        "outputId": "0f9cf70a-6e5e-47b7-e907-a17864ad9ea4",
        "colab": {
          "base_uri": "https://localhost:8080/",
          "height": 86
        }
      },
      "cell_type": "code",
      "source": [
        "get_accuracy(model,predictors)"
      ],
      "execution_count": null,
      "outputs": [
        {
          "output_type": "stream",
          "text": [
            "\n",
            "Model Report\n",
            "Accuracy : 0.8027\n",
            "AUC Score (Train): 0.844282\n"
          ],
          "name": "stdout"
        }
      ]
    },
    {
      "metadata": {
        "id": "cyFX2Zovy0sb",
        "outputId": "eaca23db-94ce-4d00-b157-ef91ce72e586",
        "colab": {
          "base_uri": "https://localhost:8080/",
          "height": 1814
        }
      },
      "cell_type": "code",
      "source": [
        "param_test4 = {\n",
        " 'subsample':[i/10.0 for i in range(6,10)],\n",
        " 'colsample_bytree':[i/10.0 for i in range(6,10)]\n",
        "}\n",
        "gsearch4=GridSearchCV(estimator=XgbClass(n_estimators=48,max_depth=7,\n",
        "                                         min_child_weight=5,gamma=0),\n",
        "                      param_grid =param_test4,scoring='roc_auc',n_jobs=-1,iid=False, cv=5)\n",
        "gsearch4.fit(train[predictors],train[target])\n",
        "gsearch4.cv_results_, gsearch4.best_params_, gsearch4.best_score_"
      ],
      "execution_count": null,
      "outputs": [
        {
          "output_type": "execute_result",
          "data": {
            "text/plain": [
              "({'mean_fit_time': array([0.24761925, 0.24028883, 0.23841305, 0.23658376, 0.27860475,\n",
              "         0.27579222, 0.27358937, 0.25988464, 0.28870115, 0.28766732,\n",
              "         0.28121572, 0.27407904, 0.304284  , 0.30221763, 0.29781356,\n",
              "         0.28894463]),\n",
              "  'mean_score_time': array([0.00745382, 0.00756383, 0.00910616, 0.00766773, 0.00748549,\n",
              "         0.00750766, 0.00747414, 0.00724821, 0.00714731, 0.00728402,\n",
              "         0.00721726, 0.00721107, 0.00716071, 0.00730948, 0.00833058,\n",
              "         0.00849657]),\n",
              "  'mean_test_score': array([0.84051166, 0.84041769, 0.84022394, 0.84168989, 0.83987525,\n",
              "         0.84008881, 0.84050073, 0.84057328, 0.84029717, 0.83995671,\n",
              "         0.84189866, 0.83927434, 0.83927259, 0.83936597, 0.84106022,\n",
              "         0.83889594]),\n",
              "  'mean_train_score': array([0.89651826, 0.90120841, 0.90492691, 0.90857003, 0.89975845,\n",
              "         0.90490393, 0.90868614, 0.91178254, 0.90200789, 0.90601781,\n",
              "         0.91041047, 0.91265981, 0.90269874, 0.90713974, 0.91118315,\n",
              "         0.91401333]),\n",
              "  'param_colsample_bytree': masked_array(data=[0.6, 0.6, 0.6, 0.6, 0.7, 0.7, 0.7, 0.7, 0.8, 0.8, 0.8,\n",
              "                     0.8, 0.9, 0.9, 0.9, 0.9],\n",
              "               mask=[False, False, False, False, False, False, False, False,\n",
              "                     False, False, False, False, False, False, False, False],\n",
              "         fill_value='?',\n",
              "              dtype=object),\n",
              "  'param_subsample': masked_array(data=[0.6, 0.7, 0.8, 0.9, 0.6, 0.7, 0.8, 0.9, 0.6, 0.7, 0.8,\n",
              "                     0.9, 0.6, 0.7, 0.8, 0.9],\n",
              "               mask=[False, False, False, False, False, False, False, False,\n",
              "                     False, False, False, False, False, False, False, False],\n",
              "         fill_value='?',\n",
              "              dtype=object),\n",
              "  'params': [{'colsample_bytree': 0.6, 'subsample': 0.6},\n",
              "   {'colsample_bytree': 0.6, 'subsample': 0.7},\n",
              "   {'colsample_bytree': 0.6, 'subsample': 0.8},\n",
              "   {'colsample_bytree': 0.6, 'subsample': 0.9},\n",
              "   {'colsample_bytree': 0.7, 'subsample': 0.6},\n",
              "   {'colsample_bytree': 0.7, 'subsample': 0.7},\n",
              "   {'colsample_bytree': 0.7, 'subsample': 0.8},\n",
              "   {'colsample_bytree': 0.7, 'subsample': 0.9},\n",
              "   {'colsample_bytree': 0.8, 'subsample': 0.6},\n",
              "   {'colsample_bytree': 0.8, 'subsample': 0.7},\n",
              "   {'colsample_bytree': 0.8, 'subsample': 0.8},\n",
              "   {'colsample_bytree': 0.8, 'subsample': 0.9},\n",
              "   {'colsample_bytree': 0.9, 'subsample': 0.6},\n",
              "   {'colsample_bytree': 0.9, 'subsample': 0.7},\n",
              "   {'colsample_bytree': 0.9, 'subsample': 0.8},\n",
              "   {'colsample_bytree': 0.9, 'subsample': 0.9}],\n",
              "  'rank_test_score': array([ 5,  7,  9,  2, 12, 10,  6,  4,  8, 11,  1, 14, 15, 13,  3, 16],\n",
              "        dtype=int32),\n",
              "  'split0_test_score': array([0.85614768, 0.8572665 , 0.85487846, 0.85740635, 0.85199434,\n",
              "         0.85353535, 0.8562374 , 0.85699471, 0.85311844, 0.85387575,\n",
              "         0.85445363, 0.85213683, 0.85002586, 0.85284665, 0.85399977,\n",
              "         0.85325037]),\n",
              "  'split0_train_score': array([0.8923226 , 0.89858712, 0.90090639, 0.90472254, 0.89619716,\n",
              "         0.90247145, 0.90562903, 0.90960406, 0.89723242, 0.90449033,\n",
              "         0.90849134, 0.91166862, 0.90043651, 0.90732004, 0.91078398,\n",
              "         0.91472707]),\n",
              "  'split1_test_score': array([0.85865447, 0.8587864 , 0.85941442, 0.85673348, 0.85955691,\n",
              "         0.85942497, 0.85737205, 0.85561466, 0.8600952 , 0.85860169,\n",
              "         0.86025353, 0.85567271, 0.85826921, 0.85884445, 0.85443252,\n",
              "         0.85375173]),\n",
              "  'split1_train_score': array([0.89336613, 0.89703298, 0.90146863, 0.90499497, 0.89617465,\n",
              "         0.90115251, 0.90611017, 0.9060764 , 0.89817169, 0.90205999,\n",
              "         0.90832352, 0.90871594, 0.89899725, 0.90462224, 0.91010556,\n",
              "         0.91059397]),\n",
              "  'split2_test_score': array([0.81333704, 0.81269866, 0.81208148, 0.81590644, 0.81340326,\n",
              "         0.81274634, 0.81131331, 0.81558858, 0.81418733, 0.8145926 ,\n",
              "         0.81657396, 0.8116709 , 0.8142509 , 0.8128523 , 0.81624815,\n",
              "         0.81336883]),\n",
              "  'split2_train_score': array([0.9008955 , 0.90581815, 0.90840224, 0.9126362 , 0.90556516,\n",
              "         0.90941418, 0.91373429, 0.9160229 , 0.90787428, 0.9104291 ,\n",
              "         0.91316102, 0.91546551, 0.90738716, 0.90897171, 0.91313986,\n",
              "         0.91593642]),\n",
              "  'split3_test_score': array([0.85693103, 0.85822812, 0.85761804, 0.85865517, 0.85524403,\n",
              "         0.85927586, 0.8574191 , 0.8552069 , 0.85477188, 0.85667374,\n",
              "         0.8575252 , 0.85645358, 0.85617772, 0.85636605, 0.8595252 ,\n",
              "         0.85740584]),\n",
              "  'split3_train_score': array([0.89500685, 0.89910613, 0.9033583 , 0.90722699, 0.89675053,\n",
              "         0.9030449 , 0.90599803, 0.91067319, 0.90041227, 0.90401534,\n",
              "         0.90833329, 0.91105716, 0.90023177, 0.9047861 , 0.90861578,\n",
              "         0.91064641]),\n",
              "  'split4_test_score': array([0.81748806, 0.81510875, 0.81712732, 0.81974801, 0.81917772,\n",
              "         0.81546154, 0.8201618 , 0.81946154, 0.819313  , 0.81603979,\n",
              "         0.820687  , 0.82043767, 0.81763926, 0.81592042, 0.82109549,\n",
              "         0.81670292]),\n",
              "  'split4_train_score': array([0.90100022, 0.90549769, 0.91049897, 0.91326945, 0.90410476,\n",
              "         0.9084366 , 0.91195917, 0.91653614, 0.90634878, 0.90909431,\n",
              "         0.91374318, 0.91639184, 0.90644102, 0.90999862, 0.91327061,\n",
              "         0.91816279]),\n",
              "  'std_fit_time': array([0.00486386, 0.00197052, 0.00177845, 0.00313342, 0.00133732,\n",
              "         0.00091447, 0.00168511, 0.00181217, 0.00133942, 0.00242639,\n",
              "         0.00169305, 0.00226738, 0.00303365, 0.00359041, 0.00268393,\n",
              "         0.00227884]),\n",
              "  'std_score_time': array([8.20058162e-05, 2.18495871e-04, 2.97623317e-03, 2.17010964e-04,\n",
              "         1.18402190e-04, 1.30700239e-04, 1.74339217e-04, 7.62777609e-05,\n",
              "         9.85414878e-05, 9.77379627e-05, 9.24649342e-05, 6.56049954e-05,\n",
              "         7.20679698e-05, 2.73254004e-04, 2.21648833e-03, 2.68110259e-03]),\n",
              "  'std_test_score': array([0.02055134, 0.02166744, 0.02102872, 0.01953136, 0.0194915 ,\n",
              "         0.02133988, 0.02041614, 0.01886791, 0.01943154, 0.02018014,\n",
              "         0.01913109, 0.01921586, 0.01926849, 0.02050761, 0.01844687,\n",
              "         0.01956284]),\n",
              "  'std_train_score': array([0.00371678, 0.00369791, 0.00383955, 0.00368799, 0.0041757 ,\n",
              "         0.00335465, 0.00344685, 0.00397778, 0.00432031, 0.00319161,\n",
              "         0.00249101, 0.00286025, 0.00348971, 0.00216514, 0.00179433,\n",
              "         0.00298174])},\n",
              " {'colsample_bytree': 0.8, 'subsample': 0.8},\n",
              " 0.8418986626168443)"
            ]
          },
          "metadata": {
            "tags": []
          },
          "execution_count": 75
        }
      ]
    },
    {
      "metadata": {
        "id": "WMPJK63Fy0sf",
        "outputId": "81f0e7fc-895a-4419-c30b-c5db9d6e81e5",
        "colab": {
          "base_uri": "https://localhost:8080/",
          "height": 55
        }
      },
      "cell_type": "code",
      "source": [
        "xgb1 = XgbClass(max_depth=8,min_child_weight=4,gamma=0.4,subsample=0.8,colsample_bytree=0.6)\n",
        "model=modelfit(xgb1, train, predictors)"
      ],
      "execution_count": null,
      "outputs": [
        {
          "output_type": "stream",
          "text": [
            "{'base_score': 0.5, 'booster': 'gbtree', 'colsample_bylevel': 1, 'colsample_bytree': 0.6, 'gamma': 0.4, 'learning_rate': 0.1, 'max_delta_step': 0, 'max_depth': 8, 'min_child_weight': 4, 'missing': None, 'n_estimators': 18, 'nthread': 1, 'objective': 'binary:logistic', 'reg_alpha': 0, 'reg_lambda': 1, 'scale_pos_weight': 1, 'seed': 0, 'silent': 1, 'subsample': 0.8}\n"
          ],
          "name": "stdout"
        }
      ]
    },
    {
      "metadata": {
        "id": "Vj-WHMJ9y0sg",
        "outputId": "d774ea22-ef26-47b3-8584-0f7c832beb50",
        "colab": {
          "base_uri": "https://localhost:8080/",
          "height": 86
        }
      },
      "cell_type": "code",
      "source": [
        "get_accuracy(model,predictors)"
      ],
      "execution_count": null,
      "outputs": [
        {
          "output_type": "stream",
          "text": [
            "\n",
            "Model Report\n",
            "Accuracy : 0.7979\n",
            "AUC Score (Train): 0.843383\n"
          ],
          "name": "stdout"
        }
      ]
    },
    {
      "metadata": {
        "id": "2hsrfoIXy0sj"
      },
      "cell_type": "code",
      "source": [
        "#dropl1=dropl+['Partner','PhoneService','OnlineBackup','TechSupport','OnlineSecurity']\n",
        "# RunTestAndSaveResults(dropl,'final_result.csv',model)\n",
        "#FixMeLater the final_result file is not printing to csv"
      ],
      "execution_count": null,
      "outputs": []
    },
    {
      "metadata": {
        "id": "RDfFjAc2KCVs"
      },
      "cell_type": "code",
      "source": [
        "ls -l"
      ],
      "execution_count": null,
      "outputs": []
    },
    {
      "metadata": {
        "id": "15m86I98uHYC"
      },
      "cell_type": "markdown",
      "source": [
        "## 10: Next Steps\n",
        "* Run some actual data from your company. For case study purposes, let's keep going with dummy data ...\n",
        "* After some initial analysis, cleaning, and tuning we're consistently getting an accuracy of 80% and AUC ~84%. Feature engineering and tuning did not improve (in some cases made worse, seems to be overfitting).\n",
        "* This meets our prediction success threshold of 80%.\n",
        "* Share findings with team.\n",
        "* Discuss some possible next steps:\n",
        "    * Get more data. This is only ~7k records and much different than the stated overall 50%.\n",
        "    * Get more detailed data on features that are showing to be relatively MORE predictive:\n",
        "      * MonthlyCharges\n",
        "      * Tenure\n",
        "      * PaymentMethod\n",
        "      * Plan Types\n",
        "      \n",
        "  * **Get more detailed data on features that are showing to be relatively LESS predictive but our analysis show with more details they could be really useful**\n",
        "      * Tech support: how many calls to tech support lifetime and in past month since churning, instead of just a contact tech support: Y / N.\n",
        "  * **Get additional data on features we think may be very predictive but we don't have here yet**\n",
        "    * Time to first success point\n",
        "    * Other data specific to the business\n",
        "    * Etc.\n",
        "    \n",
        " ## Help Transform Customer Experience\n",
        "  * Iterate products to transform customer experiences:\n",
        "    * Personalized features (i.e if low NPS go to different flow)\n",
        "    * Data predictions (i.e. predict churn from TechSupport interaction and alert the customer support team to intervene, and automatically have the technology prompt the user for answering their questions),\n",
        "    * Propensity modeling (i.e set scorecards for customer predicted churn based on numerous factors. flag those users when they go 'red\" for action with marketing and customer case outreach).\n",
        "  \n",
        "  **Activity loop:**\n",
        "  * Iterate\n",
        "  * Communicate\n",
        "  * Put into production\n",
        "  * Scale\n",
        "  * Assess\n",
        "  * Repeat\n",
        "  \n",
        "  Questions?\n",
        "  Michelle Bonat\n",
        "  michelle.bonat@gmail.com\n",
        "  [michellebonat.com](http://michellebonat.com)"
      ]
    },
    {
      "metadata": {
        "id": "MDuedctmzhct"
      },
      "cell_type": "markdown",
      "source": [
        "## 11: Appendix"
      ]
    },
    {
      "metadata": {
        "id": "tmdd5wtazjuP"
      },
      "cell_type": "markdown",
      "source": [
        "## The initial data showed that more tech support interactions reduced customer churn. Here are some ways to put that information into action:\n",
        "To get customers interacting with tech support instead of cancelling:"
      ]
    },
    {
      "metadata": {
        "id": "pfwS5ZCV2lO7"
      },
      "cell_type": "markdown",
      "source": [
        "1) Include this NPS data in the dataset for analysis, it is from the questionnaire in QuickBooks."
      ]
    },
    {
      "metadata": {
        "id": "x060xZ642u5S"
      },
      "cell_type": "markdown",
      "source": [
        "2) Make sure screens/flow to include links to Support during the Cancel process."
      ]
    },
    {
      "metadata": {
        "id": "GhUFDTzp3H78"
      },
      "cell_type": "markdown",
      "source": [
        "3) Offer users a way to get help even live chat right there instead of just a cancel option."
      ]
    },
    {
      "metadata": {
        "id": "J4S8hGxn3mXw"
      },
      "cell_type": "markdown",
      "source": [
        "4) There could also be a 'Resolve Your Issue' link right next to the cancel option."
      ]
    }
  ]
}